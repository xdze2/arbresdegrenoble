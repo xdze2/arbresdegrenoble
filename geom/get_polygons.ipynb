{
 "cells": [
  {
   "cell_type": "code",
   "execution_count": 3,
   "metadata": {
    "collapsed": true
   },
   "outputs": [],
   "source": [
    "import sqlite3\n",
    "\n",
    "import numpy as np\n",
    "\n",
    "import matplotlib.pyplot as plt\n",
    "%matplotlib inline"
   ]
  },
  {
   "cell_type": "code",
   "execution_count": 4,
   "metadata": {},
   "outputs": [
    {
     "name": "stdout",
     "output_type": "stream",
     "text": [
      "The autoreload extension is already loaded. To reload it, use:\n",
      "  %reload_ext autoreload\n"
     ]
    }
   ],
   "source": [
    "%load_ext autoreload\n",
    "%autoreload 2\n",
    "\n",
    "import alpha_hull"
   ]
  },
  {
   "cell_type": "code",
   "execution_count": 5,
   "metadata": {
    "collapsed": true
   },
   "outputs": [],
   "source": [
    "# Lecture des zones parents :\n",
    "\n",
    "db_filename = '../data/arbres.db'\n",
    "db = sqlite3.connect(db_filename)\n",
    "\n",
    "cursor = db.cursor()"
   ]
  },
  {
   "cell_type": "code",
   "execution_count": 6,
   "metadata": {},
   "outputs": [
    {
     "name": "stdout",
     "output_type": "stream",
     "text": [
      "1445\n"
     ]
    }
   ],
   "source": [
    "cursor.execute(\"\"\" SELECT DISTINCT code_parent, code_parent_desc FROM arbres  \"\"\")\n",
    "zones_parent = { x[0]: {'name':x[1]} for x in cursor.fetchall()}\n",
    "\n",
    "print( len(zones_parent) )"
   ]
  },
  {
   "cell_type": "code",
   "execution_count": 7,
   "metadata": {},
   "outputs": [
    {
     "data": {
      "text/plain": [
       "'ESP810'"
      ]
     },
     "execution_count": 7,
     "metadata": {},
     "output_type": "execute_result"
    }
   ],
   "source": [
    "list(zones_parent.keys())[0]"
   ]
  },
  {
   "cell_type": "code",
   "execution_count": 272,
   "metadata": {
    "collapsed": true
   },
   "outputs": [],
   "source": [
    "for code_parent, infos in zones_parent.items():\n",
    "    cursor.execute(\"\"\"\n",
    "        SELECT genre_bota, longitude, latitude FROM arbres \n",
    "        WHERE code_parent  = ?\"\"\", (code_parent, ))\n",
    "\n",
    "    #nametuples = cursor.fetchmany(10)\n",
    "    infos['arbres'] = cursor.fetchall()"
   ]
  },
  {
   "cell_type": "code",
   "execution_count": 366,
   "metadata": {
    "collapsed": true
   },
   "outputs": [],
   "source": [
    "R_Earth =  6371008  # m , volumétrique ?\n",
    "def value_in_degree( meter ):\n",
    "    return meter/R_Earth *180/np.pi\n",
    "\n",
    "def value_in_meter( deg ):\n",
    "    return deg*np.pi/180 * R_Earth\n",
    "\n",
    "R_Earth =  6371008  # m , volumétrique ?\n",
    "def convert_to_meter( array ):\n",
    "    uv = array*np.pi/180*R_Earth\n",
    "    uv = uv - uv.mean( axis=0 )\n",
    "    return uv\n",
    "\n",
    "def convert_to_degree( array, offset ):\n",
    "    uv = array / R_Earth * 180/np.pi\n",
    "    uv = uv + offset\n",
    "    return uv"
   ]
  },
  {
   "cell_type": "code",
   "execution_count": 457,
   "metadata": {
    "collapsed": true
   },
   "outputs": [],
   "source": [
    "def get_coords_array( arbres ):\n",
    "    XY = [ (tree[1], tree[2])  for tree in arbres ]\n",
    "    XY = np.array( XY )\n",
    "    return convert_to_meter( XY ), XY.mean( axis=0 )\n",
    "\n",
    "def get_coords_deg( arbres ):\n",
    "    latlon = [ (tree[1], tree[2])  for tree in arbres ]\n",
    "    return np.array( latlon )\n",
    "    \n",
    "\n",
    "def get_species( arbres ):\n",
    "    spec = { tree[0] for tree in arbres }\n",
    "    return list(spec)"
   ]
  },
  {
   "cell_type": "code",
   "execution_count": 458,
   "metadata": {},
   "outputs": [
    {
     "name": "stdout",
     "output_type": "stream",
     "text": [
      "Cité Chatelet Wash Poincare 63 ['Prunus', 'Magnolia', 'Tilia', 'Carpinus', 'Koelreuteria', 'Pinus', 'Platanus']\n"
     ]
    }
   ],
   "source": [
    "# Pick one :\n",
    "code_parent, infos = list( zones_parent.items() )[17]\n",
    "print( infos['name'], len(infos['arbres']), get_species(infos['arbres'])  )"
   ]
  },
  {
   "cell_type": "code",
   "execution_count": 445,
   "metadata": {},
   "outputs": [],
   "source": [
    "def get_coordsarray( infos ):\n",
    "    \"\"\" construit le ndarray des coordonnées en les convertissant (scale, pas de projection sphèrique)\n",
    "        en mètre\n",
    "        retourne l'array (n_points, n_dim), et la fonction de scaling inverse\n",
    "    \"\"\"\n",
    "    points_deg = get_coords_deg( infos['arbres'] )\n",
    "    center_deg = points_deg.mean( axis = 0 )\n",
    "\n",
    "    R_Earth =  6371008  # m\n",
    "    scale_factor = np.pi/180*R_Earth\n",
    "\n",
    "    points_m = (points_deg - center_deg)*scale_factor\n",
    "    scale_back = lambda X: X/scale_factor + center_deg\n",
    "    \n",
    "    return points_m, scale_back"
   ]
  },
  {
   "cell_type": "code",
   "execution_count": 446,
   "metadata": {
    "collapsed": true
   },
   "outputs": [],
   "source": [
    "points_m, scale_back = get_coordsarray( infos )"
   ]
  },
  {
   "cell_type": "code",
   "execution_count": 447,
   "metadata": {},
   "outputs": [
    {
     "data": {
      "image/png": "[encoded data removed]",
      "text/plain": [
       "<matplotlib.figure.Figure at 0x7ff4b21e1668>"
      ]
     },
     "metadata": {},
     "output_type": "display_data"
    }
   ],
   "source": [
    "plt.plot( *points_m.T, '.', alpha=.6 )\n",
    "plt.axis('equal');"
   ]
  },
  {
   "cell_type": "code",
   "execution_count": 449,
   "metadata": {},
   "outputs": [],
   "source": [
    "def add_contourpoints( points_list,  n_points = 5, r_cercle = 3 ):\n",
    "    \"\"\" Ajoute des points virtuels autour des arbres pour donner\n",
    "        une épaisseur au polygone dans le cas où les arbres sont \n",
    "        tous alignés\n",
    "        \n",
    "        n_point: nombre de points à ajouter\n",
    "        r_cercle: distance au centre \n",
    "    \"\"\"\n",
    "\n",
    "    thetas = np.linspace( 0, 2*np.pi, n_points+1 )[:-1]\n",
    "\n",
    "    added_point = []\n",
    "    for x, y in points_list:\n",
    "\n",
    "        x_add = x + r_cercle * np.cos( thetas )\n",
    "        y_add = y + r_cercle * np.sin( thetas )\n",
    "\n",
    "        added_point.extend( zip( x_add, y_add ) )\n",
    "    \n",
    "    return np.array( added_point )"
   ]
  },
  {
   "cell_type": "code",
   "execution_count": 450,
   "metadata": {
    "collapsed": true
   },
   "outputs": [],
   "source": [
    "added_point = add_contourpoints( points_m )"
   ]
  },
  {
   "cell_type": "code",
   "execution_count": 451,
   "metadata": {
    "scrolled": true
   },
   "outputs": [
    {
     "data": {
      "image/png": "[encoded data removed]",
      "text/plain": [
       "<matplotlib.figure.Figure at 0x7ff4b21af2e8>"
      ]
     },
     "metadata": {},
     "output_type": "display_data"
    }
   ],
   "source": [
    "plt.plot( *points_m.T, '.' )\n",
    "plt.axis('equal');\n",
    "\n",
    "plt.plot( *added_point.T, '.r', alpha=.6 )\n",
    "plt.axis('equal');"
   ]
  },
  {
   "cell_type": "code",
   "execution_count": 452,
   "metadata": {},
   "outputs": [],
   "source": [
    "# - Alpha hub - \n",
    "all_points = np.concatenate( (added_point, points_list) )\n",
    "\n",
    "Rcritic = 12  # m\n",
    "polygon = alpha_hull.alpha_shape( all_points, Rcritic  )[0]"
   ]
  },
  {
   "cell_type": "code",
   "execution_count": 453,
   "metadata": {
    "scrolled": false
   },
   "outputs": [
    {
     "data": {
      "image/png": "[encoded data removed]",
      "text/plain": [
       "<matplotlib.figure.Figure at 0x7ff4b21d3048>"
      ]
     },
     "metadata": {},
     "output_type": "display_data"
    }
   ],
   "source": [
    "# plot\n",
    "alpha_hull.plot_polygon( polygon  )\n",
    "plt.plot( *points_list.T, 'o' )\n",
    "plt.axis('equal');"
   ]
  },
  {
   "cell_type": "code",
   "execution_count": 399,
   "metadata": {
    "collapsed": true
   },
   "outputs": [],
   "source": [
    "# Rq: Delaunay ne marche pas avec les coords en degrée dec. ... "
   ]
  },
  {
   "cell_type": "code",
   "execution_count": 431,
   "metadata": {},
   "outputs": [
    {
     "data": {
      "image/svg+xml": [
       "<svg xmlns=\"http://www.w3.org/2000/svg\" xmlns:xlink=\"http://www.w3.org/1999/xlink\" width=\"100.0\" height=\"100.0\" viewBox=\"-57.47233132981191 54.62371844354118 10.213750425630906 30.391929328012566\" preserveAspectRatio=\"xMinYMin meet\"><g transform=\"matrix(1,0,0,-1,0,139.63936621509492)\"><polyline fill=\"none\" stroke=\"#66cc99\" stroke-width=\"0.6078385865602514\" points=\"-48.384207916329615,58.60251500457525 -50.45715693320477,55.74934545568979 -53.81125889945446,56.839159247697836 -53.81125889945446,60.36587076145267 -56.346704317663296,66.72656281688208 -56.346704317663296,70.25327433063691 -55.32840477168696,79.27349545364225 -55.32840477168696,82.80020696739709 -51.974302805437276,83.89002075940513 -49.90135378856212,81.03685121051967 -50.91965333453845,68.4899185737595 -48.384207916329615,58.60251500457525\" opacity=\"0.8\" /></g></svg>"
      ],
      "text/plain": [
       "<shapely.geometry.linestring.LineString at 0x7ff4b222cb00>"
      ]
     },
     "execution_count": 431,
     "metadata": {},
     "output_type": "execute_result"
    }
   ],
   "source": [
    "polygon.boundary[1]"
   ]
  },
  {
   "cell_type": "code",
   "execution_count": 406,
   "metadata": {
    "collapsed": true
   },
   "outputs": [],
   "source": [
    "import geojson as gj\n",
    "# https://pypi.python.org/pypi/geojson#polygon"
   ]
  },
  {
   "cell_type": "code",
   "execution_count": 442,
   "metadata": {},
   "outputs": [],
   "source": [
    "def get_geom( polygon, scale_back ):\n",
    "    \"\"\" retourne la partie Geométrie du GeoJson pour l'objet polygon\n",
    "        peut être un simple ou MultiPolygon\n",
    "        - convertie les coords en degrée décimaux avec la fonction scale_back\n",
    "    \"\"\"\n",
    "    \n",
    "    if polygon.geom_type == 'MultiPolygon':\n",
    "        \n",
    "        all_coords = []\n",
    "        for part in polygon.boundary:\n",
    "            boundary_coords = part.coords\n",
    "            boundary_coords = scale_back( np.array(boundary_coords) ).tolist()\n",
    "            all_coords.append( (boundary_coords, )  ) # supplementary tuple ??\n",
    "\n",
    "        geom = gj.MultiPolygon( all_coords )\n",
    "\n",
    "    elif polygon.geom_type == 'Polygon':\n",
    "        boundary_coords = polygon.boundary.coords\n",
    "        boundary_coords = scale_back( np.array(boundary_coords) ).tolist()\n",
    "        geom = gj.Polygon( boundary_coords )\n",
    "        \n",
    "    return geom"
   ]
  },
  {
   "cell_type": "code",
   "execution_count": 443,
   "metadata": {},
   "outputs": [],
   "source": [
    "geom = get_geom( polygon, scale_back )\n",
    "featprops = {'code_parent':code_parent , 'code_parent_desc':infos['name'], 'genre':}\n",
    "feat = gj.Feature(geometry=geom, properties={\"code_parent\": \"Spain\"}) "
   ]
  },
  {
   "cell_type": "code",
   "execution_count": 455,
   "metadata": {},
   "outputs": [
    {
     "data": {
      "text/plain": [
       "{'arbres': [('Pinus', 5.74770117144835, 45.1790066202352),\n",
       "  ('Carpinus', 5.74749529529031, 45.1791023562271),\n",
       "  ('Tilia', 5.74799856026338, 45.1789769489607),\n",
       "  ('Carpinus', 5.74763422011432, 45.1793562741835),\n",
       "  ('Carpinus', 5.74761528577425, 45.1793291925258),\n",
       "  ('Platanus', 5.74754661575057, 45.1792654673466),\n",
       "  ('Pinus', 5.74770907586361, 45.1790264164748),\n",
       "  ('Pinus', 5.74749406888944, 45.179127057481),\n",
       "  ('Platanus', 5.74727353179737, 45.179042127795),\n",
       "  ('Magnolia', 5.74724934862358, 45.1786815470861),\n",
       "  ('Carpinus', 5.74761293773373, 45.1790305581108),\n",
       "  ('Carpinus', 5.74773356965711, 45.1788815875052),\n",
       "  ('Platanus', 5.74763654612739, 45.178916310185),\n",
       "  ('Pinus', 5.74772520197763, 45.1787605234148),\n",
       "  ('Carpinus', 5.74771384907484, 45.1790969402073),\n",
       "  ('Pinus', 5.74764706029374, 45.1790283781634),\n",
       "  ('Carpinus', 5.74747413632408, 45.1791063083827),\n",
       "  ('Carpinus', 5.74761516446974, 45.1793445049595),\n",
       "  ('Platanus', 5.74711529485932, 45.1796554195346),\n",
       "  ('Carpinus', 5.74746592095028, 45.1791269009981),\n",
       "  ('Platanus', 5.74729733940993, 45.1789529986904),\n",
       "  ('Koelreuteria', 5.74820422688242, 45.1786479545718),\n",
       "  ('Carpinus', 5.74752518448933, 45.1790909439811),\n",
       "  ('Pinus', 5.74774108598741, 45.1789099047227),\n",
       "  ('Platanus', 5.74746283262093, 45.1791611123119),\n",
       "  ('Carpinus', 5.7476483378409, 45.1791110176711),\n",
       "  ('Platanus', 5.74713809663914, 45.1795665000897),\n",
       "  ('Carpinus', 5.74765603971403, 45.179055589878),\n",
       "  ('Pinus', 5.74776031011199, 45.1787225351086),\n",
       "  ('Carpinus', 5.74747469116354, 45.1790766649364),\n",
       "  ('Pinus', 5.7477306823016, 45.1787128151694),\n",
       "  ('Platanus', 5.74765723343739, 45.178828263026),\n",
       "  ('Carpinus', 5.74758375996914, 45.1791040855672),\n",
       "  ('Carpinus', 5.74760641748409, 45.1793038776554),\n",
       "  ('Carpinus', 5.7475054284611, 45.179079726244),\n",
       "  ('Pinus', 5.74774843173276, 45.17880711987),\n",
       "  ('Pinus', 5.74779623107561, 45.1788666839991),\n",
       "  ('Platanus', 5.74712445263565, 45.179768256669),\n",
       "  ('Tilia', 5.74805188641651, 45.1790681114496),\n",
       "  ('Carpinus', 5.74760329558572, 45.1793288235825),\n",
       "  ('Carpinus', 5.74764564208837, 45.1787890698796),\n",
       "  ('Carpinus', 5.74763465614427, 45.1790665727222),\n",
       "  ('Carpinus', 5.74769080698022, 45.179042683808),\n",
       "  ('Platanus', 5.7476685146653, 45.1788599909255),\n",
       "  ('Pinus', 5.74753227915523, 45.1791294494688),\n",
       "  ('Carpinus', 5.74760769975146, 45.1790650215569),\n",
       "  ('Platanus', 5.74758954191602, 45.1790897688729),\n",
       "  ('Tilia', 5.74808558830224, 45.1789828297381),\n",
       "  ('Pinus', 5.7476612679531, 45.1790166150973),\n",
       "  ('Carpinus', 5.74762318842619, 45.1792923996679),\n",
       "  ('Pinus', 5.74755850027225, 45.1790945510525),\n",
       "  ('Platanus', 5.74756627013756, 45.1791771713435),\n",
       "  ('Pinus', 5.74782109999087, 45.178802197959),\n",
       "  ('Carpinus', 5.74768808201476, 45.1791026484266),\n",
       "  ('Platanus', 5.74737889740046, 45.1790563294279),\n",
       "  ('Carpinus', 5.74764525996333, 45.1788086224191),\n",
       "  ('Carpinus', 5.74764279096873, 45.1793205517041),\n",
       "  ('Magnolia', 5.74730764445736, 45.1786899242276),\n",
       "  ('Pinus', 5.74773397871467, 45.1787315774887),\n",
       "  ('Pinus', 5.74779001561426, 45.1788258023801),\n",
       "  ('Carpinus', 5.74739503714824, 45.1785577684211),\n",
       "  ('Prunus', 5.74720918023673, 45.1788413064207),\n",
       "  ('Pinus', 5.74756417504603, 45.1791196893834)],\n",
       " 'name': 'Cité Chatelet Wash Poincare'}"
      ]
     },
     "execution_count": 455,
     "metadata": {},
     "output_type": "execute_result"
    }
   ],
   "source": [
    "def get_coordsarray( infos ):\n",
    "    \"\"\" construit le ndarray des coordonnées en les convertissant (scale, pas de projection sphèrique)\n",
    "        en mètre\n",
    "        retourne l'array (n_points, n_dim), et la fonction de scaling inverse\n",
    "    \"\"\"\n",
    "    points_deg = get_coords_deg( infos['arbres'] )\n",
    "    center_deg = points_deg.mean( axis = 0 )\n",
    "\n",
    "    R_Earth =  6371008  # m\n",
    "    scale_factor = np.pi/180*R_Earth\n",
    "\n",
    "    points_m = (points_deg - center_deg)*scale_factor\n",
    "    scale_back = lambda X: X/scale_factor + center_deg\n",
    "    \n",
    "    return points_m, scale_back"
   ]
  },
  {
   "cell_type": "code",
   "execution_count": null,
   "metadata": {
    "collapsed": true
   },
   "outputs": [],
   "source": []
  }
 ],
 "metadata": {
  "kernelspec": {
   "display_name": "Python Virtual Env.",
   "language": "python",
   "name": "py3"
  },
  "language_info": {
   "codemirror_mode": {
    "name": "ipython",
    "version": 3
   },
   "file_extension": ".py",
   "mimetype": "text/x-python",
   "name": "python",
   "nbconvert_exporter": "python",
   "pygments_lexer": "ipython3",
   "version": "3.5.2"
  }
 },
 "nbformat": 4,
 "nbformat_minor": 2
}
