{
 "cells": [
  {
   "cell_type": "code",
   "execution_count": 18,
   "metadata": {
    "collapsed": true
   },
   "outputs": [],
   "source": [
    "import sqlite3\n",
    "\n",
    "import numpy as np\n",
    "\n",
    "import matplotlib.pyplot as plt\n",
    "%matplotlib inline"
   ]
  },
  {
   "cell_type": "code",
   "execution_count": 19,
   "metadata": {},
   "outputs": [
    {
     "name": "stdout",
     "output_type": "stream",
     "text": [
      "The autoreload extension is already loaded. To reload it, use:\n",
      "  %reload_ext autoreload\n"
     ]
    }
   ],
   "source": [
    "%load_ext autoreload\n",
    "%autoreload 2\n",
    "\n",
    "import geomtools as geo"
   ]
  },
  {
   "cell_type": "code",
   "execution_count": 20,
   "metadata": {
    "collapsed": true
   },
   "outputs": [],
   "source": [
    "# Lecture des zones parents :\n",
    "\n",
    "db_filename = '../data/arbres.db'\n",
    "db = sqlite3.connect(db_filename)\n",
    "\n",
    "cursor = db.cursor()"
   ]
  },
  {
   "cell_type": "code",
   "execution_count": 21,
   "metadata": {},
   "outputs": [
    {
     "name": "stdout",
     "output_type": "stream",
     "text": [
      "1445\n"
     ]
    }
   ],
   "source": [
    "# get dict of all the zones\n",
    "cursor.execute(\"\"\" SELECT DISTINCT code_parent, code_parent_desc FROM arbres  \"\"\")\n",
    "zones_parent = { x[0]: {'name':x[1]} for x in cursor.fetchall() }\n",
    "\n",
    "print( len(zones_parent) )"
   ]
  },
  {
   "cell_type": "code",
   "execution_count": 22,
   "metadata": {
    "collapsed": true
   },
   "outputs": [],
   "source": [
    "# add infos about trees\n",
    "for code_parent, infos in zones_parent.items():\n",
    "    cursor.execute(\"\"\"\n",
    "        SELECT genre_bota, longitude, latitude FROM arbres \n",
    "        WHERE code_parent  = ?\"\"\", (code_parent, ))\n",
    "\n",
    "    #nametuples = cursor.fetchmany(10)\n",
    "    infos['arbres'] = cursor.fetchall()"
   ]
  },
  {
   "cell_type": "code",
   "execution_count": 23,
   "metadata": {
    "collapsed": true
   },
   "outputs": [],
   "source": [
    "def get_species( arbres ):\n",
    "    \"\"\" retourne la liste des espèces (genre) présentes\n",
    "    \"\"\"\n",
    "    spec = { tree[0] for tree in arbres }\n",
    "    return list(spec)"
   ]
  },
  {
   "cell_type": "code",
   "execution_count": 24,
   "metadata": {
    "collapsed": true
   },
   "outputs": [],
   "source": [
    "import geojson as gj\n",
    "\n",
    "def convert_to_geojson( polytype, coords  ):\n",
    "    \"\"\" Format coords in the geoJson format (dict)\n",
    "        peut être un simple ou MultiPolygon\n",
    "        \n",
    "        :param polytype: 'MultiPolygon'  or   'Polygon'  \n",
    "        :coords: list of lists\n",
    "        :return: dict\n",
    "    \"\"\"\n",
    "    \n",
    "    if polytype == 'MultiPolygon':\n",
    "        geom = gj.MultiPolygon( coords )\n",
    "\n",
    "    elif polytype == 'Polygon':\n",
    "        geom = gj.Polygon( coords )\n",
    "        \n",
    "    return geom"
   ]
  },
  {
   "cell_type": "code",
   "execution_count": 25,
   "metadata": {},
   "outputs": [
    {
     "name": "stdout",
     "output_type": "stream",
     "text": [
      "1445\n"
     ]
    }
   ],
   "source": [
    "# - loop -\n",
    "iter_limit = 2000\n",
    "featurelist = []\n",
    "for index, (code_parent, infos) in zip( range(iter_limit), zones_parent.items()):\n",
    "\n",
    "    points_deg = [ (tree[1], tree[2])  for tree in infos['arbres'] ]\n",
    "    points_m, scale_back = geo.get_coordsarray( points_deg )\n",
    "\n",
    "    added_points = geo.add_contourpoints( points_m, n_points = 5, r_cercle = 3 )\n",
    "\n",
    "    all_points = np.concatenate( (added_points, points_m) )\n",
    "\n",
    "    Rcritic = 12  # meter\n",
    "    polygon = geo.alpha_shape( all_points, Rcritic  )[0]\n",
    "\n",
    "    polytype, polycoords = geo.get_polycoords( polygon, scale_back )\n",
    "    geom = convert_to_geojson( polytype, polycoords )\n",
    "    featprops = {'code_parent':code_parent , 'code_parent_desc':infos['name'],\n",
    "                 'genre':get_species(infos['arbres']), \n",
    "                 'numberoftrees':len(infos['arbres'])}\n",
    "\n",
    "    feat = gj.Feature(geometry=geom, properties=featprops ) \n",
    "    featurelist.append( feat )\n",
    "    \n",
    "    print( index, end='\\r' )\n",
    "    \n",
    "print(len(featurelist))"
   ]
  },
  {
   "cell_type": "code",
   "execution_count": 26,
   "metadata": {
    "collapsed": true
   },
   "outputs": [],
   "source": [
    "# - save -\n",
    "feature_collection = gj.FeatureCollection( featurelist )\n",
    "\n",
    "jsontext = gj.dumps(feature_collection)\n",
    "\n",
    "with open('../data/zoneparents.geojson', '+w') as file:\n",
    "    file.write( jsontext )"
   ]
  },
  {
   "cell_type": "markdown",
   "metadata": {},
   "source": [
    "## Debug zone"
   ]
  },
  {
   "cell_type": "code",
   "execution_count": 10,
   "metadata": {},
   "outputs": [
    {
     "name": "stdout",
     "output_type": "stream",
     "text": [
      "Ave Randon Girard Masséna 9 ['Liquidambar']\n"
     ]
    }
   ],
   "source": [
    "# Pick one :\n",
    "code_parent, infos = list( zones_parent.items() )[187]\n",
    "print( infos['name'], len(infos['arbres']), get_species(infos['arbres'])  )"
   ]
  },
  {
   "cell_type": "code",
   "execution_count": 11,
   "metadata": {
    "collapsed": true
   },
   "outputs": [],
   "source": [
    "points_deg = [ (tree[1], tree[2])  for tree in infos['arbres'] ]\n",
    "points_m, scale_back = geo.get_coordsarray( points_deg )\n",
    "\n",
    "added_points = geo.add_contourpoints( points_m, n_points = 5, r_cercle = 3 )\n",
    "\n",
    "# - Alpha hub - \n",
    "all_points = np.concatenate( (added_points, points_m) )\n",
    "\n",
    "Rcritic = 12  # m\n",
    "polygon = geo.alpha_shape( all_points, Rcritic  )[0]"
   ]
  },
  {
   "cell_type": "code",
   "execution_count": 12,
   "metadata": {
    "scrolled": false
   },
   "outputs": [
    {
     "data": {
      "image/png": "[encoded data removed]",
      "text/plain": [
       "<matplotlib.figure.Figure at 0x7f3395e704e0>"
      ]
     },
     "metadata": {},
     "output_type": "display_data"
    }
   ],
   "source": [
    "# plot\n",
    "geo.plot_polygon( polygon  )\n",
    "plt.plot( *points_m.T, '.' )\n",
    "plt.plot( *added_points.T, '.r', alpha=.6 )\n",
    "\n",
    "plt.axis('equal');"
   ]
  },
  {
   "cell_type": "code",
   "execution_count": 13,
   "metadata": {
    "collapsed": true
   },
   "outputs": [],
   "source": [
    "polytype, polycoords = geo.get_polycoords( polygon, scale_back )\n",
    "geom = convert_to_geojson( polytype, polycoords )\n",
    "featprops = {'code_parent':code_parent , 'code_parent_desc':infos['name'], 'genre':get_species(infos['arbres']), \n",
    "            'numberoftrees':len(infos['arbres'])}\n",
    "feat = gj.Feature(geometry=geom, properties=featprops ) "
   ]
  },
  {
   "cell_type": "code",
   "execution_count": 14,
   "metadata": {},
   "outputs": [
    {
     "data": {
      "text/plain": [
       "{\"geometry\": {\"coordinates\": [[[5.7355162433766305, 45.19638033044701], [5.735415674781089, 45.1963122155782], [5.7353970323261105, 45.196286556440214], [5.735292400741649, 45.1962186501397], [5.73527375828667, 45.19619299100171], [5.73524359416088, 45.1962027919203], [5.73524359416088, 45.1962345083591], [5.73527375828667, 45.19624430927769], [5.7353668682003205, 45.1963280737976], [5.7353970323261105, 45.19633787471619], [5.73548607925084, 45.1964218478044], [5.7355162433766305, 45.19643164872299], [5.73561782671515, 45.196535413445396], [5.73564799084094, 45.19654521436399], [5.7357201577733, 45.1966004271765], [5.73575032189909, 45.19661022809509], [5.73585227131872, 45.1967013883219], [5.73588243544451, 45.19671118924049], [5.7359718507021, 45.1967927197298], [5.73600201482789, 45.19680252064839], [5.7360999984409204, 45.196891184953095], [5.7361301625667105, 45.196900985871686], [5.7362350639218, 45.196992509731196], [5.73626522804759, 45.197002310649786], [5.736283870502569, 45.1969766515118], [5.73626522804759, 45.19695099237381], [5.736148805021689, 45.1968753267337], [5.7361301625667105, 45.19684966759571], [5.736020657282869, 45.1967768615104], [5.73600201482789, 45.19675120237241], [5.735901077899489, 45.1966855301025], [5.73588243544451, 45.19665987096451], [5.735768964354069, 45.1965845689571], [5.73575032189909, 45.19655890981911], [5.735666633295919, 45.196519555226], [5.73564799084094, 45.19649389608801], [5.735534885831609, 45.196405989585], [5.7355162433766305, 45.19638033044701]]], \"type\": \"Polygon\"}, \"properties\": {\"code_parent\": \"ESP581\", \"code_parent_desc\": \"Ave Randon Girard Mass\\u00e9na\", \"genre\": [\"Liquidambar\"], \"numberoftrees\": 9}, \"type\": \"Feature\"}"
      ]
     },
     "execution_count": 14,
     "metadata": {},
     "output_type": "execute_result"
    }
   ],
   "source": [
    "feat"
   ]
  },
  {
   "cell_type": "code",
   "execution_count": 15,
   "metadata": {},
   "outputs": [
    {
     "data": {
      "text/plain": [
       "{\"coordinates\": [[[5.7355162433766305, 45.19638033044701], [5.735415674781089, 45.1963122155782], [5.7353970323261105, 45.196286556440214], [5.735292400741649, 45.1962186501397], [5.73527375828667, 45.19619299100171], [5.73524359416088, 45.1962027919203], [5.73524359416088, 45.1962345083591], [5.73527375828667, 45.19624430927769], [5.7353668682003205, 45.1963280737976], [5.7353970323261105, 45.19633787471619], [5.73548607925084, 45.1964218478044], [5.7355162433766305, 45.19643164872299], [5.73561782671515, 45.196535413445396], [5.73564799084094, 45.19654521436399], [5.7357201577733, 45.1966004271765], [5.73575032189909, 45.19661022809509], [5.73585227131872, 45.1967013883219], [5.73588243544451, 45.19671118924049], [5.7359718507021, 45.1967927197298], [5.73600201482789, 45.19680252064839], [5.7360999984409204, 45.196891184953095], [5.7361301625667105, 45.196900985871686], [5.7362350639218, 45.196992509731196], [5.73626522804759, 45.197002310649786], [5.736283870502569, 45.1969766515118], [5.73626522804759, 45.19695099237381], [5.736148805021689, 45.1968753267337], [5.7361301625667105, 45.19684966759571], [5.736020657282869, 45.1967768615104], [5.73600201482789, 45.19675120237241], [5.735901077899489, 45.1966855301025], [5.73588243544451, 45.19665987096451], [5.735768964354069, 45.1965845689571], [5.73575032189909, 45.19655890981911], [5.735666633295919, 45.196519555226], [5.73564799084094, 45.19649389608801], [5.735534885831609, 45.196405989585], [5.7355162433766305, 45.19638033044701]]], \"type\": \"Polygon\"}"
      ]
     },
     "execution_count": 15,
     "metadata": {},
     "output_type": "execute_result"
    }
   ],
   "source": [
    "geom"
   ]
  },
  {
   "cell_type": "code",
   "execution_count": null,
   "metadata": {
    "collapsed": true
   },
   "outputs": [],
   "source": []
  }
 ],
 "metadata": {
  "kernelspec": {
   "display_name": "Python Virtual Env.",
   "language": "python",
   "name": "py3"
  },
  "language_info": {
   "codemirror_mode": {
    "name": "ipython",
    "version": 3
   },
   "file_extension": ".py",
   "mimetype": "text/x-python",
   "name": "python",
   "nbconvert_exporter": "python",
   "pygments_lexer": "ipython3",
   "version": "3.5.2"
  }
 },
 "nbformat": 4,
 "nbformat_minor": 2
}
