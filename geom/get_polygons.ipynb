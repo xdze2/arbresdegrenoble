{
 "cells": [
  {
   "cell_type": "code",
   "execution_count": 1,
   "metadata": {
    "collapsed": true
   },
   "outputs": [],
   "source": [
    "import sqlite3\n",
    "\n",
    "import numpy as np\n",
    "\n",
    "import matplotlib.pyplot as plt\n",
    "%matplotlib inline"
   ]
  },
  {
   "cell_type": "code",
   "execution_count": 2,
   "metadata": {},
   "outputs": [],
   "source": [
    "%load_ext autoreload\n",
    "%autoreload 2\n",
    "\n",
    "import alpha_hull"
   ]
  },
  {
   "cell_type": "code",
   "execution_count": 3,
   "metadata": {
    "collapsed": true
   },
   "outputs": [],
   "source": [
    "# Lecture des zones parents :\n",
    "\n",
    "db_filename = '../data/arbres.db'\n",
    "db = sqlite3.connect(db_filename)\n",
    "\n",
    "cursor = db.cursor()"
   ]
  },
  {
   "cell_type": "code",
   "execution_count": 4,
   "metadata": {},
   "outputs": [
    {
     "name": "stdout",
     "output_type": "stream",
     "text": [
      "1445\n"
     ]
    }
   ],
   "source": [
    "# get dict of all the zones\n",
    "cursor.execute(\"\"\" SELECT DISTINCT code_parent, code_parent_desc FROM arbres  \"\"\")\n",
    "zones_parent = { x[0]: {'name':x[1]} for x in cursor.fetchall() }\n",
    "\n",
    "print( len(zones_parent) )"
   ]
  },
  {
   "cell_type": "code",
   "execution_count": 5,
   "metadata": {
    "collapsed": true
   },
   "outputs": [],
   "source": [
    "# add infos about trees\n",
    "for code_parent, infos in zones_parent.items():\n",
    "    cursor.execute(\"\"\"\n",
    "        SELECT genre_bota, longitude, latitude FROM arbres \n",
    "        WHERE code_parent  = ?\"\"\", (code_parent, ))\n",
    "\n",
    "    #nametuples = cursor.fetchmany(10)\n",
    "    infos['arbres'] = cursor.fetchall()"
   ]
  },
  {
   "cell_type": "code",
   "execution_count": 6,
   "metadata": {
    "collapsed": true
   },
   "outputs": [],
   "source": [
    "def get_species( arbres ):\n",
    "    \"\"\" retourne la liste des espèces (genre) présentes\n",
    "    \"\"\"\n",
    "    spec = { tree[0] for tree in arbres }\n",
    "    return list(spec)"
   ]
  },
  {
   "cell_type": "code",
   "execution_count": 7,
   "metadata": {},
   "outputs": [],
   "source": [
    "def get_coords_deg( arbres ):\n",
    "    latlon = [ (tree[1], tree[2])  for tree in arbres ]\n",
    "    return np.array( latlon )\n",
    "\n",
    "def get_coordsarray( infos ):\n",
    "    \"\"\" construit le ndarray des coordonnées en les convertissant (scale, pas de projection sphèrique)\n",
    "        en mètre\n",
    "        retourne l'array (n_points, n_dim), et la fonction de scaling inverse\n",
    "    \"\"\"\n",
    "    points_deg = get_coords_deg( infos['arbres'] )\n",
    "    center_deg = points_deg.mean( axis = 0 )\n",
    "\n",
    "    R_Earth =  6371008  # m\n",
    "    scale_factor = np.pi/180*R_Earth\n",
    "\n",
    "    points_m = (points_deg - center_deg)*scale_factor\n",
    "    scale_back = lambda X: X/scale_factor + center_deg\n",
    "    \n",
    "    return points_m, scale_back"
   ]
  },
  {
   "cell_type": "code",
   "execution_count": 8,
   "metadata": {},
   "outputs": [
    {
     "name": "stdout",
     "output_type": "stream",
     "text": [
      "Tr quartiers gymn de la rampe 31 ['Acer', 'Sorbus', 'Alnus', 'Fraxinus', 'Pinus', 'Carpinus']\n"
     ]
    }
   ],
   "source": [
    "# Pick one :\n",
    "code_parent, infos = list( zones_parent.items() )[17]\n",
    "print( infos['name'], len(infos['arbres']), get_species(infos['arbres'])  )"
   ]
  },
  {
   "cell_type": "code",
   "execution_count": 9,
   "metadata": {},
   "outputs": [],
   "source": [
    "points_m, scale_back = get_coordsarray( infos )"
   ]
  },
  {
   "cell_type": "code",
   "execution_count": 10,
   "metadata": {},
   "outputs": [
    {
     "data": {
      "image/png": "[encoded data removed]",
      "text/plain": [
       "<matplotlib.figure.Figure at 0x7f3c5987d7f0>"
      ]
     },
     "metadata": {},
     "output_type": "display_data"
    }
   ],
   "source": [
    "plt.plot( *points_m.T, '.', alpha=.6 )\n",
    "plt.axis('equal');"
   ]
  },
  {
   "cell_type": "code",
   "execution_count": 11,
   "metadata": {},
   "outputs": [],
   "source": [
    "def add_contourpoints( points_list,  n_points = 5, r_cercle = 3 ):\n",
    "    \"\"\" Ajoute des points virtuels autour des arbres pour donner\n",
    "        une épaisseur au polygone dans le cas où les arbres sont \n",
    "        tous alignés\n",
    "        \n",
    "        n_point: nombre de points à ajouter\n",
    "        r_cercle: distance au centre \n",
    "    \"\"\"\n",
    "\n",
    "    thetas = np.linspace( 0, 2*np.pi, n_points+1 )[:-1]\n",
    "\n",
    "    added_point = []\n",
    "    for x, y in points_list:\n",
    "\n",
    "        x_add = x + r_cercle * np.cos( thetas )\n",
    "        y_add = y + r_cercle * np.sin( thetas )\n",
    "\n",
    "        added_point.extend( zip( x_add, y_add ) )\n",
    "    \n",
    "    return np.array( added_point )"
   ]
  },
  {
   "cell_type": "code",
   "execution_count": 12,
   "metadata": {
    "collapsed": true
   },
   "outputs": [],
   "source": [
    "added_points = add_contourpoints( points_m )"
   ]
  },
  {
   "cell_type": "code",
   "execution_count": 13,
   "metadata": {
    "scrolled": true
   },
   "outputs": [
    {
     "data": {
      "image/png": "[encoded data removed]",
      "text/plain": [
       "<matplotlib.figure.Figure at 0x7f3c57793438>"
      ]
     },
     "metadata": {},
     "output_type": "display_data"
    }
   ],
   "source": [
    "plt.plot( *points_m.T, '.' )\n",
    "plt.axis('equal');\n",
    "\n",
    "plt.plot( *added_points.T, '.r', alpha=.6 )\n",
    "plt.axis('equal');"
   ]
  },
  {
   "cell_type": "code",
   "execution_count": 14,
   "metadata": {},
   "outputs": [],
   "source": [
    "# - Alpha hub - \n",
    "all_points = np.concatenate( (added_points, points_m) )\n",
    "\n",
    "Rcritic = 12  # m\n",
    "polygon = alpha_hull.alpha_shape( all_points, Rcritic  )[0]"
   ]
  },
  {
   "cell_type": "code",
   "execution_count": 15,
   "metadata": {
    "scrolled": false
   },
   "outputs": [
    {
     "data": {
      "image/png": "[encoded data removed]",
      "text/plain": [
       "<matplotlib.figure.Figure at 0x7f3c577ab0b8>"
      ]
     },
     "metadata": {},
     "output_type": "display_data"
    }
   ],
   "source": [
    "# plot\n",
    "alpha_hull.plot_polygon( polygon  )\n",
    "plt.plot( *points_m.T, 'o' )\n",
    "plt.axis('equal');"
   ]
  },
  {
   "cell_type": "code",
   "execution_count": 16,
   "metadata": {
    "collapsed": true
   },
   "outputs": [],
   "source": [
    "# Rq: Delaunay ne marche pas avec les coords en degrée dec. ... "
   ]
  },
  {
   "cell_type": "code",
   "execution_count": 17,
   "metadata": {
    "collapsed": true
   },
   "outputs": [],
   "source": [
    "import geojson as gj\n",
    "# https://pypi.python.org/pypi/geojson#polygon"
   ]
  },
  {
   "cell_type": "code",
   "execution_count": 18,
   "metadata": {},
   "outputs": [],
   "source": [
    "def get_geom( polygon, scale_back ):\n",
    "    \"\"\" retourne la partie Geométrie du GeoJson pour l'objet polygon\n",
    "        peut être un simple ou MultiPolygon\n",
    "        - convertie les coords en degrée décimaux avec la fonction scale_back\n",
    "    \"\"\"\n",
    "    \n",
    "    if polygon.geom_type == 'MultiPolygon':\n",
    "        \n",
    "        all_coords = []\n",
    "        for part in polygon.boundary:\n",
    "            boundary_coords = part.coords\n",
    "            boundary_coords = scale_back( np.array(boundary_coords) ).tolist()\n",
    "            all_coords.append( (boundary_coords, )  ) # supplementary tuple ??\n",
    "\n",
    "        geom = gj.MultiPolygon( all_coords )\n",
    "\n",
    "    elif polygon.geom_type == 'Polygon':\n",
    "        boundary_coords = polygon.boundary.coords\n",
    "        boundary_coords = scale_back( np.array(boundary_coords) ).tolist()\n",
    "        geom = gj.Polygon( boundary_coords )\n",
    "        \n",
    "    return geom"
   ]
  },
  {
   "cell_type": "code",
   "execution_count": 19,
   "metadata": {},
   "outputs": [],
   "source": [
    "geom = get_geom( polygon, scale_back )\n",
    "featprops = {'code_parent':code_parent , 'code_parent_desc':infos['name'], 'genre':get_species(infos['arbres'])}\n",
    "feat = gj.Feature(geometry=geom, properties=featprops ) "
   ]
  },
  {
   "cell_type": "code",
   "execution_count": 20,
   "metadata": {},
   "outputs": [
    {
     "data": {
      "text/plain": [
       "{\"geometry\": {\"coordinates\": [[[[5.732914456451269, 45.1626508437346], [5.73289581399629, 45.162625184596614], [5.7328656498705, 45.162634985515204], [5.7328656498705, 45.162666701954], [5.73289581399629, 45.16267650287259], [5.732914456451269, 45.1626508437346]]], [[[5.733228663109791, 45.16216051624931], [5.733199900480351, 45.16215277211461], [5.733169736354561, 45.1621625730332], [5.733169736354561, 45.162194289472], [5.73317712568592, 45.162216964288], [5.73318711699437, 45.1622495777551], [5.73318360500254, 45.1623309860654], [5.73318360500254, 45.1623627025042], [5.73319278886438, 45.1624537547318], [5.73319201981431, 45.1624752370972], [5.73319278886438, 45.1624854711706], [5.73319201981431, 45.162506953535996], [5.73315350754147, 45.162599596072305], [5.73315350754147, 45.1626313125111], [5.73318367166726, 45.16264111342969], [5.7331932806256605, 45.16263256520589], [5.73322317764853, 45.16260196530499], [5.733241820103509, 45.162576306167], [5.73326398323087, 45.16255354299629], [5.733282625685849, 45.1625278838583], [5.733273710054079, 45.1625001497806], [5.733271377207889, 45.1624601593975], [5.7333195591548005, 45.162379384563586], [5.733431899026851, 45.16236738297499], [5.7334505414818295, 45.162341723837], [5.733431899026851, 45.16231606469901], [5.73340788320725, 45.16228601691331], [5.733312109401049, 45.1622012425134], [5.73329346694607, 45.16217558337541], [5.733228663109791, 45.16216051624931]]]], \"type\": \"MultiPolygon\"}, \"properties\": {\"code_parent\": \"ESP1103\", \"code_parent_desc\": \"Tr quartiers gymn de la rampe\", \"genre\": [\"Acer\", \"Sorbus\", \"Alnus\", \"Fraxinus\", \"Pinus\", \"Carpinus\"]}, \"type\": \"Feature\"}"
      ]
     },
     "execution_count": 20,
     "metadata": {},
     "output_type": "execute_result"
    }
   ],
   "source": [
    "feat"
   ]
  },
  {
   "cell_type": "code",
   "execution_count": null,
   "metadata": {
    "collapsed": true
   },
   "outputs": [],
   "source": []
  }
 ],
 "metadata": {
  "kernelspec": {
   "display_name": "Python Virtual Env.",
   "language": "python",
   "name": "py3"
  },
  "language_info": {
   "codemirror_mode": {
    "name": "ipython",
    "version": 3
   },
   "file_extension": ".py",
   "mimetype": "text/x-python",
   "name": "python",
   "nbconvert_exporter": "python",
   "pygments_lexer": "ipython3",
   "version": "3.5.2"
  }
 },
 "nbformat": 4,
 "nbformat_minor": 2
}
