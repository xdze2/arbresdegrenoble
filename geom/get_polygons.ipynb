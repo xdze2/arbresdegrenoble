{
 "cells": [
  {
   "cell_type": "code",
   "execution_count": 3,
   "metadata": {
    "collapsed": true
   },
   "outputs": [],
   "source": [
    "import sqlite3\n",
    "\n",
    "import numpy as np\n",
    "\n",
    "import matplotlib.pyplot as plt\n",
    "%matplotlib inline"
   ]
  },
  {
   "cell_type": "code",
   "execution_count": 4,
   "metadata": {},
   "outputs": [
    {
     "name": "stdout",
     "output_type": "stream",
     "text": [
      "The autoreload extension is already loaded. To reload it, use:\n",
      "  %reload_ext autoreload\n"
     ]
    }
   ],
   "source": [
    "%load_ext autoreload\n",
    "%autoreload 2\n",
    "\n",
    "import alpha_hull"
   ]
  },
  {
   "cell_type": "code",
   "execution_count": 5,
   "metadata": {
    "collapsed": true
   },
   "outputs": [],
   "source": [
    "# Lecture des zones parents :\n",
    "\n",
    "db_filename = '../data/arbres.db'\n",
    "db = sqlite3.connect(db_filename)\n",
    "\n",
    "cursor = db.cursor()"
   ]
  },
  {
   "cell_type": "code",
   "execution_count": 6,
   "metadata": {},
   "outputs": [
    {
     "name": "stdout",
     "output_type": "stream",
     "text": [
      "1445\n"
     ]
    }
   ],
   "source": [
    "cursor.execute(\"\"\" SELECT DISTINCT code_parent, code_parent_desc FROM arbres  \"\"\")\n",
    "zones_parent = { x[0]: {'name':x[1]} for x in cursor.fetchall()}\n",
    "\n",
    "print( len(zones_parent) )"
   ]
  },
  {
   "cell_type": "code",
   "execution_count": 7,
   "metadata": {},
   "outputs": [
    {
     "data": {
      "text/plain": [
       "'ESP810'"
      ]
     },
     "execution_count": 7,
     "metadata": {},
     "output_type": "execute_result"
    }
   ],
   "source": [
    "list(zones_parent.keys())[0]"
   ]
  },
  {
   "cell_type": "code",
   "execution_count": 272,
   "metadata": {
    "collapsed": true
   },
   "outputs": [],
   "source": [
    "for code_parent, infos in zones_parent.items():\n",
    "    cursor.execute(\"\"\"\n",
    "        SELECT genre_bota, longitude, latitude FROM arbres \n",
    "        WHERE code_parent  = ?\"\"\", (code_parent, ))\n",
    "\n",
    "    #nametuples = cursor.fetchmany(10)\n",
    "    infos['arbres'] = cursor.fetchall()"
   ]
  },
  {
   "cell_type": "code",
   "execution_count": 366,
   "metadata": {
    "collapsed": true
   },
   "outputs": [],
   "source": [
    "R_Earth =  6371008  # m , volumétrique ?\n",
    "def value_in_degree( meter ):\n",
    "    return meter/R_Earth *180/np.pi\n",
    "\n",
    "def value_in_meter( deg ):\n",
    "    return deg*np.pi/180 * R_Earth\n",
    "\n",
    "R_Earth =  6371008  # m , volumétrique ?\n",
    "def convert_to_meter( array ):\n",
    "    uv = array*np.pi/180*R_Earth\n",
    "    uv = uv - uv.mean( axis=0 )\n",
    "    return uv\n",
    "\n",
    "def convert_to_degree( array, offset ):\n",
    "    uv = array / R_Earth * 180/np.pi\n",
    "    uv = uv + offset\n",
    "    return uv"
   ]
  },
  {
   "cell_type": "code",
   "execution_count": 367,
   "metadata": {
    "collapsed": true
   },
   "outputs": [],
   "source": [
    "def get_coords_array( arbres ):\n",
    "    XY = [ (tree[1], tree[2])  for tree in arbres ]\n",
    "    XY = np.array( XY )\n",
    "    return convert_to_meter( XY ), XY.mean( axis=0 )\n",
    "\n",
    "\n",
    "def get_species( arbres ):\n",
    "    spec = { tree[0] for tree in arbres }\n",
    "    return spec"
   ]
  },
  {
   "cell_type": "code",
   "execution_count": 361,
   "metadata": {},
   "outputs": [
    {
     "name": "stdout",
     "output_type": "stream",
     "text": [
      "Cité Chatelet Wash Poincare 63 {'Prunus', 'Magnolia', 'Tilia', 'Carpinus', 'Koelreuteria', 'Pinus', 'Platanus'}\n"
     ]
    }
   ],
   "source": [
    "infos = list( zones_parent.values() )[17]\n",
    "print( infos['name'], len(infos['arbres']), get_species(infos['arbres'])  )"
   ]
  },
  {
   "cell_type": "code",
   "execution_count": 362,
   "metadata": {},
   "outputs": [],
   "source": [
    "points_list, offset_deg = get_coords_array( infos['arbres'] )"
   ]
  },
  {
   "cell_type": "code",
   "execution_count": 363,
   "metadata": {},
   "outputs": [
    {
     "data": {
      "image/png": "[encoded data removed]",
      "text/plain": [
       "<matplotlib.figure.Figure at 0x7ff4b939aa90>"
      ]
     },
     "metadata": {},
     "output_type": "display_data"
    }
   ],
   "source": [
    "plt.plot( *points_list.T, '.', alpha=.6 )\n",
    "plt.axis('equal');"
   ]
  },
  {
   "cell_type": "code",
   "execution_count": 364,
   "metadata": {},
   "outputs": [],
   "source": [
    "n_points = 5\n",
    "r_cercle = 3 # metre\n",
    "thetas = np.linspace( 0, 2*np.pi, n_points+1 )[:-1]\n",
    "\n",
    "added_point = []\n",
    "for x, y in points_list:\n",
    "    \n",
    "    x_add = x + r_cercle * np.cos( thetas )\n",
    "    y_add = y + r_cercle * np.sin( thetas )\n",
    "    \n",
    "    added_point.extend( zip( x_add, y_add ) )\n",
    "    \n",
    "added_point = np.array( added_point )"
   ]
  },
  {
   "cell_type": "code",
   "execution_count": 365,
   "metadata": {
    "scrolled": true
   },
   "outputs": [
    {
     "data": {
      "image/png": "[encoded data removed]",
      "text/plain": [
       "<matplotlib.figure.Figure at 0x7ff4b939ae10>"
      ]
     },
     "metadata": {},
     "output_type": "display_data"
    }
   ],
   "source": [
    "plt.plot( *points_list.T, '.' )\n",
    "plt.axis('equal');\n",
    "\n",
    "plt.plot( *added_point.T, '.r', alpha=.6 )\n",
    "plt.axis('equal');"
   ]
  },
  {
   "cell_type": "code",
   "execution_count": 330,
   "metadata": {},
   "outputs": [],
   "source": [
    "all_points = np.concatenate( (added_point, points_list) )"
   ]
  },
  {
   "cell_type": "code",
   "execution_count": 346,
   "metadata": {},
   "outputs": [],
   "source": [
    "# Alpha hub\n",
    "Rcritic = 16  # m\n",
    "polygon = alpha_hull.alpha_shape( all_points, Rcritic  )[0]"
   ]
  },
  {
   "cell_type": "code",
   "execution_count": 347,
   "metadata": {
    "scrolled": false
   },
   "outputs": [
    {
     "data": {
      "image/png": "[encoded data removed]",
      "text/plain": [
       "<matplotlib.figure.Figure at 0x7ff4b9564a90>"
      ]
     },
     "metadata": {},
     "output_type": "display_data"
    }
   ],
   "source": [
    "alpha_hull.plot_polygon( polygon  )\n",
    "plt.plot( *points_list.T, 'o' )\n",
    "plt.axis('equal');"
   ]
  },
  {
   "cell_type": "code",
   "execution_count": 344,
   "metadata": {
    "collapsed": true
   },
   "outputs": [],
   "source": [
    "# Rq: Delaunay ne marche pas avec les coords en degrée dec. ... "
   ]
  },
  {
   "cell_type": "code",
   "execution_count": 355,
   "metadata": {},
   "outputs": [
    {
     "data": {
      "text/plain": [
       "'MultiPolygon'"
      ]
     },
     "execution_count": 355,
     "metadata": {},
     "output_type": "execute_result"
    }
   ],
   "source": [
    "polygon.geom_type"
   ]
  },
  {
   "cell_type": "code",
   "execution_count": 348,
   "metadata": {},
   "outputs": [
    {
     "data": {
      "text/plain": [
       "3"
      ]
     },
     "execution_count": 348,
     "metadata": {},
     "output_type": "execute_result"
    }
   ],
   "source": [
    "len( polygon )"
   ]
  },
  {
   "cell_type": "code",
   "execution_count": 326,
   "metadata": {},
   "outputs": [
    {
     "ename": "NotImplementedError",
     "evalue": "Multi-part geometries do not provide a coordinate sequence",
     "output_type": "error",
     "traceback": [
      "\u001b[0;31m---------------------------------------------------------------------------\u001b[0m",
      "\u001b[0;31mNotImplementedError\u001b[0m                       Traceback (most recent call last)",
      "\u001b[0;32m<ipython-input-326-642e5433203a>\u001b[0m in \u001b[0;36m<module>\u001b[0;34m()\u001b[0m\n\u001b[0;32m----> 1\u001b[0;31m \u001b[0mlist\u001b[0m\u001b[0;34m(\u001b[0m \u001b[0mpolygon\u001b[0m\u001b[0;34m.\u001b[0m\u001b[0mboundary\u001b[0m\u001b[0;34m.\u001b[0m\u001b[0mcoords\u001b[0m \u001b[0;34m)\u001b[0m\u001b[0;34m\u001b[0m\u001b[0m\n\u001b[0m",
      "\u001b[0;32m~/Projets/arbresDeGrenoble/py3/lib/python3.5/site-packages/shapely/geometry/base.py\u001b[0m in \u001b[0;36mcoords\u001b[0;34m(self)\u001b[0m\n\u001b[1;32m    806\u001b[0m     \u001b[0;32mdef\u001b[0m \u001b[0mcoords\u001b[0m\u001b[0;34m(\u001b[0m\u001b[0mself\u001b[0m\u001b[0;34m)\u001b[0m\u001b[0;34m:\u001b[0m\u001b[0;34m\u001b[0m\u001b[0m\n\u001b[1;32m    807\u001b[0m         raise NotImplementedError(\n\u001b[0;32m--> 808\u001b[0;31m             \"Multi-part geometries do not provide a coordinate sequence\")\n\u001b[0m\u001b[1;32m    809\u001b[0m \u001b[0;34m\u001b[0m\u001b[0m\n\u001b[1;32m    810\u001b[0m     \u001b[0;34m@\u001b[0m\u001b[0mproperty\u001b[0m\u001b[0;34m\u001b[0m\u001b[0m\n",
      "\u001b[0;31mNotImplementedError\u001b[0m: Multi-part geometries do not provide a coordinate sequence"
     ]
    }
   ],
   "source": [
    "list( polygon.boundary.coords )"
   ]
  },
  {
   "cell_type": "code",
   "execution_count": 368,
   "metadata": {
    "collapsed": true
   },
   "outputs": [],
   "source": [
    "import shapely.geometry as geometry"
   ]
  },
  {
   "cell_type": "code",
   "execution_count": 369,
   "metadata": {},
   "outputs": [
    {
     "data": {
      "text/plain": [
       "{'coordinates': [(((70.16421513841487, -43.53521473053843),\n",
       "    (68.09126612153972, -46.38838427942389),\n",
       "    (64.73716415529003, -45.298570487415844),\n",
       "    (64.73716415529003, -41.77185897366101),\n",
       "    (68.09126612153972, -40.68204518165297),\n",
       "    (70.16421513841487, -43.53521473053843)),),\n",
       "  (((-50.45715693320477, 55.74934545568979),\n",
       "    (-53.81125889945446, 56.839159247697836),\n",
       "    (-56.346704317663296, 66.72656281688208),\n",
       "    (-56.346704317663296, 70.25327433063691),\n",
       "    (-55.32840477168696, 79.27349545364225),\n",
       "    (-55.32840477168696, 82.80020696739709),\n",
       "    (-51.974302805437276, 83.89002075940513),\n",
       "    (-49.90135378856212, 81.03685121051967),\n",
       "    (-50.91965333453845, 68.4899185737595),\n",
       "    (-48.384207916329615, 58.60251500457525),\n",
       "    (-50.45715693320477, 55.74934545568979)),),\n",
       "  (((-19.813690979382955, -53.56346973404288),\n",
       "    (-21.88663999625811, -56.416639282928344),\n",
       "    (-25.240741962507798, -55.3268254909203),\n",
       "    (-38.086485150678584, -42.65306242611402),\n",
       "    (-41.44058711692827, -41.563248634105975),\n",
       "    (-41.44058711692827, -38.03653712035114),\n",
       "    (-45.907113554711884, -23.79879883560395),\n",
       "    (-45.907113554711884, -20.27208732184911),\n",
       "    (-38.75153750466319, -1.4684528119400708),\n",
       "    (-38.75153750466319, 2.058258701814768),\n",
       "    (-35.397435538413504, 3.148072493822809),\n",
       "    (-17.702219883852138, 15.288749944186268),\n",
       "    (-8.385949231042956, 26.892514943844137),\n",
       "    (-2.083431205420253, 33.93741579237437),\n",
       "    (-0.7636698602572651, 35.68110754783308),\n",
       "    (1.3552238017446725, 36.98978718905752),\n",
       "    (4.709325767994357, 38.07960098106557),\n",
       "    (6.782274784869514, 35.22643143218011),\n",
       "    (7.735311508993618, 31.254267969168723),\n",
       "    (13.563673310039064, 9.24294231329256),\n",
       "    (15.636622326914221, 6.389772764407098),\n",
       "    (41.86805082153393, -5.189306097337546),\n",
       "    (47.79765595280429, 4.947512897430418),\n",
       "    (51.15175791905398, 6.0373266894384585),\n",
       "    (53.224706935929134, 3.1841571405529976),\n",
       "    (56.97219035308808, -6.298748420551419),\n",
       "    (54.899241336212924, -9.15191796943688),\n",
       "    (45.222152787783614, -9.805831403100427),\n",
       "    (27.562395042506978, -26.38411106914282),\n",
       "    (25.48944602563182, -29.23728061802828),\n",
       "    (20.80286043183878, -35.242226999253035),\n",
       "    (18.729911414963624, -38.095396548138496),\n",
       "    (15.435445075096991, -39.176205832140084),\n",
       "    (12.081343108847307, -38.08639204013204),\n",
       "    (2.625290963159444, -29.60724448482549),\n",
       "    (2.5828005440426414, -27.43309855996674),\n",
       "    (2.6252909631594448, -26.08053297107065),\n",
       "    (2.5828005440426423, -23.9063870462119),\n",
       "    (1.6138649791838025, -15.45875029428905),\n",
       "    (-13.02950648620123, 1.2820931229726114),\n",
       "    (-23.681300320139655, -0.9791150927557908),\n",
       "    (-30.677197465207428, -9.615813747048378),\n",
       "    (-32.750146482082584, -12.468983295933839),\n",
       "    (-31.604276050174178, -36.01522652469433),\n",
       "    (-29.53132703329902, -38.86839607357979),\n",
       "    (-21.88663999625811, -50.71030018515742),\n",
       "    (-19.813690979382955, -53.56346973404288)),)],\n",
       " 'type': 'MultiPolygon'}"
      ]
     },
     "execution_count": 369,
     "metadata": {},
     "output_type": "execute_result"
    }
   ],
   "source": [
    "geometry.mapping( polygon )"
   ]
  },
  {
   "cell_type": "code",
   "execution_count": 265,
   "metadata": {},
   "outputs": [
    {
     "data": {
      "text/plain": [
       "6.666666666666667"
      ]
     },
     "execution_count": 265,
     "metadata": {},
     "output_type": "execute_result"
    }
   ],
   "source": [
    "1/.15"
   ]
  },
  {
   "cell_type": "code",
   "execution_count": null,
   "metadata": {
    "collapsed": true
   },
   "outputs": [],
   "source": []
  }
 ],
 "metadata": {
  "kernelspec": {
   "display_name": "Python Virtual Env.",
   "language": "python",
   "name": "py3"
  },
  "language_info": {
   "codemirror_mode": {
    "name": "ipython",
    "version": 3
   },
   "file_extension": ".py",
   "mimetype": "text/x-python",
   "name": "python",
   "nbconvert_exporter": "python",
   "pygments_lexer": "ipython3",
   "version": "3.5.2"
  }
 },
 "nbformat": 4,
 "nbformat_minor": 2
}
