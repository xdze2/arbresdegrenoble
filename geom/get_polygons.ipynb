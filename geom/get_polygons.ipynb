{
 "cells": [
  {
   "cell_type": "code",
   "execution_count": 1,
   "metadata": {
    "collapsed": true
   },
   "outputs": [],
   "source": [
    "import sqlite3\n",
    "\n",
    "import numpy as np\n",
    "\n",
    "import matplotlib.pyplot as plt\n",
    "%matplotlib inline"
   ]
  },
  {
   "cell_type": "code",
   "execution_count": 2,
   "metadata": {
    "collapsed": true
   },
   "outputs": [],
   "source": [
    "%load_ext autoreload\n",
    "%autoreload 2\n",
    "\n",
    "import geomtools as geo"
   ]
  },
  {
   "cell_type": "code",
   "execution_count": 3,
   "metadata": {
    "collapsed": true
   },
   "outputs": [],
   "source": [
    "# Lecture des zones parents :\n",
    "\n",
    "db_filename = '../data/arbres.db'\n",
    "db = sqlite3.connect(db_filename)\n",
    "\n",
    "cursor = db.cursor()"
   ]
  },
  {
   "cell_type": "code",
   "execution_count": 4,
   "metadata": {},
   "outputs": [
    {
     "name": "stdout",
     "output_type": "stream",
     "text": [
      "1445\n"
     ]
    }
   ],
   "source": [
    "# get dict of all the zones\n",
    "cursor.execute(\"\"\" SELECT DISTINCT code_parent, code_parent_desc FROM arbres  \"\"\")\n",
    "zones_parent = { x[0]: {'name':x[1]} for x in cursor.fetchall() }\n",
    "\n",
    "print( len(zones_parent) )"
   ]
  },
  {
   "cell_type": "code",
   "execution_count": 5,
   "metadata": {
    "collapsed": true
   },
   "outputs": [],
   "source": [
    "# add infos about trees\n",
    "for code_parent, infos in zones_parent.items():\n",
    "    cursor.execute(\"\"\"\n",
    "        SELECT genre_bota, longitude, latitude FROM arbres \n",
    "        WHERE code_parent  = ?\"\"\", (code_parent, ))\n",
    "\n",
    "    #nametuples = cursor.fetchmany(10)\n",
    "    infos['arbres'] = cursor.fetchall()"
   ]
  },
  {
   "cell_type": "code",
   "execution_count": 6,
   "metadata": {
    "collapsed": true
   },
   "outputs": [],
   "source": [
    "def get_species( arbres ):\n",
    "    \"\"\" retourne la liste des espèces (genre) présentes\n",
    "    \"\"\"\n",
    "    spec = { tree[0] for tree in arbres }\n",
    "    return list(spec)"
   ]
  },
  {
   "cell_type": "code",
   "execution_count": 7,
   "metadata": {
    "collapsed": true
   },
   "outputs": [],
   "source": [
    "import geojson as gj\n",
    "\n",
    "def convert_to_geojson( polytype, coords  ):\n",
    "    \"\"\" Format coords in the geoJson format (dict)\n",
    "        peut être un simple ou MultiPolygon\n",
    "        \n",
    "        :param polytype: 'MultiPolygon'  or   'Polygon'  \n",
    "        :coords: list of lists\n",
    "        :return: dict\n",
    "    \"\"\"\n",
    "    \n",
    "    if polytype == 'MultiPolygon':\n",
    "        geom = gj.MultiPolygon( coords )\n",
    "\n",
    "    elif polytype == 'Polygon':\n",
    "        geom = gj.Polygon( coords )\n",
    "        \n",
    "    return geom"
   ]
  },
  {
   "cell_type": "code",
   "execution_count": 8,
   "metadata": {},
   "outputs": [
    {
     "name": "stdout",
     "output_type": "stream",
     "text": [
      "200\n"
     ]
    }
   ],
   "source": [
    "# - loop -\n",
    "iter_limit = 200\n",
    "featurelist = []\n",
    "for index, (code_parent, infos) in zip( range(iter_limit), zones_parent.items()):\n",
    "\n",
    "    points_deg = [ (tree[1], tree[2])  for tree in infos['arbres'] ]\n",
    "    points_m, scale_back = geo.get_coordsarray( points_deg )\n",
    "\n",
    "    added_points = geo.add_contourpoints( points_m, n_points = 5, r_cercle = 3 )\n",
    "\n",
    "    all_points = np.concatenate( (added_points, points_m) )\n",
    "\n",
    "    Rcritic = 12  # meter\n",
    "    polygon = geo.alpha_shape( all_points, Rcritic  )[0]\n",
    "\n",
    "    polytype, polycoords = geo.get_polycoords( polygon, scale_back )\n",
    "    geom = convert_to_geojson( polytype, polycoords )\n",
    "    featprops = {'code_parent':code_parent , 'code_parent_desc':infos['name'],\n",
    "                 'genre':get_species(infos['arbres']), \n",
    "                 'numberoftrees':len(infos['arbres'])}\n",
    "\n",
    "    feat = gj.Feature(geometry=geom, properties=featprops ) \n",
    "    featurelist.append( feat )\n",
    "    \n",
    "    print( index, end='\\r' )\n",
    "    \n",
    "print(len(featurelist))"
   ]
  },
  {
   "cell_type": "code",
   "execution_count": 10,
   "metadata": {
    "collapsed": true
   },
   "outputs": [],
   "source": [
    "# - save -\n",
    "feature_collection = gj.FeatureCollection( featurelist )\n",
    "\n",
    "jsontext = gj.dumps(feature_collection)\n",
    "\n",
    "with open('../data/zoneparents.geojson', '+w') as file:\n",
    "    file.write( jsontext )"
   ]
  },
  {
   "cell_type": "markdown",
   "metadata": {},
   "source": [
    "## Debug zone"
   ]
  },
  {
   "cell_type": "code",
   "execution_count": 7,
   "metadata": {},
   "outputs": [
    {
     "name": "stdout",
     "output_type": "stream",
     "text": [
      "R Corot 6 ['Platanus']\n"
     ]
    }
   ],
   "source": [
    "# Pick one :\n",
    "code_parent, infos = list( zones_parent.items() )[187]\n",
    "print( infos['name'], len(infos['arbres']), get_species(infos['arbres'])  )"
   ]
  },
  {
   "cell_type": "code",
   "execution_count": 8,
   "metadata": {
    "collapsed": true
   },
   "outputs": [],
   "source": [
    "points_deg = [ (tree[1], tree[2])  for tree in infos['arbres'] ]\n",
    "points_m, scale_back = geo.get_coordsarray( points_deg )\n",
    "\n",
    "added_points = geo.add_contourpoints( points_m, n_points = 5, r_cercle = 3 )\n",
    "\n",
    "# - Alpha hub - \n",
    "all_points = np.concatenate( (added_points, points_m) )\n",
    "\n",
    "Rcritic = 12  # m\n",
    "polygon = geo.alpha_shape( all_points, Rcritic  )[0]"
   ]
  },
  {
   "cell_type": "code",
   "execution_count": 20,
   "metadata": {
    "scrolled": false
   },
   "outputs": [
    {
     "data": {
      "image/png": "[encoded data removed]",
      "text/plain": [
       "<matplotlib.figure.Figure at 0x7fc17d7a6080>"
      ]
     },
     "metadata": {},
     "output_type": "display_data"
    }
   ],
   "source": [
    "# plot\n",
    "geo.plot_polygon( polygon  )\n",
    "plt.plot( *points_m.T, '.' )\n",
    "plt.plot( *added_points.T, '.r', alpha=.6 )\n",
    "\n",
    "plt.axis('equal');"
   ]
  },
  {
   "cell_type": "code",
   "execution_count": 21,
   "metadata": {
    "collapsed": true
   },
   "outputs": [],
   "source": [
    "polytype, polycoords = geo.get_polycoords( polygon, scale_back )\n",
    "geom = convert_to_geojson( polytype, polycoords )\n",
    "featprops = {'code_parent':code_parent , 'code_parent_desc':infos['name'], 'genre':get_species(infos['arbres']), \n",
    "            'numberoftrees':len(infos['arbres'])}\n",
    "feat = gj.Feature(geometry=geom, properties=featprops ) "
   ]
  },
  {
   "cell_type": "code",
   "execution_count": 18,
   "metadata": {},
   "outputs": [
    {
     "data": {
      "text/plain": [
       "{\"geometry\": {\"coordinates\": [[5.71003359857037, 45.16809400121101], [5.71000343444458, 45.1681038021296], [5.71000343444458, 45.1681355185684], [5.71003174479774, 45.1682220651412], [5.71005991585443, 45.1683081835002], [5.71011669011149, 45.1684500059687], [5.71011669011149, 45.1684817224075], [5.71014685423728, 45.16849152332609], [5.71025861092004, 45.1685497379054], [5.71028877504583, 45.16855953882399], [5.710307417500809, 45.168533879686], [5.710277724836719, 45.168445455166], [5.71025908238174, 45.16841979602801], [5.710108722435199, 45.1682923252808], [5.710080551378509, 45.1682062069218], [5.710052241025349, 45.168119660349], [5.71003359857037, 45.16809400121101]], \"type\": \"Polygon\"}, \"properties\": {\"code_parent\": \"ESP1231\", \"code_parent_desc\": \"R Corot\", \"genre\": [\"Platanus\"], \"numberoftrees\": 6}, \"type\": \"Feature\"}"
      ]
     },
     "execution_count": 18,
     "metadata": {},
     "output_type": "execute_result"
    }
   ],
   "source": [
    "feat"
   ]
  },
  {
   "cell_type": "code",
   "execution_count": 22,
   "metadata": {},
   "outputs": [
    {
     "data": {
      "text/plain": [
       "{\"coordinates\": [[5.71003359857037, 45.16809400121101], [5.71000343444458, 45.1681038021296], [5.71000343444458, 45.1681355185684], [5.71003174479774, 45.1682220651412], [5.71005991585443, 45.1683081835002], [5.71011669011149, 45.1684500059687], [5.71011669011149, 45.1684817224075], [5.71014685423728, 45.16849152332609], [5.71025861092004, 45.1685497379054], [5.71028877504583, 45.16855953882399], [5.710307417500809, 45.168533879686], [5.710277724836719, 45.168445455166], [5.71025908238174, 45.16841979602801], [5.710108722435199, 45.1682923252808], [5.710080551378509, 45.1682062069218], [5.710052241025349, 45.168119660349], [5.71003359857037, 45.16809400121101]], \"type\": \"Polygon\"}"
      ]
     },
     "execution_count": 22,
     "metadata": {},
     "output_type": "execute_result"
    }
   ],
   "source": [
    "geom"
   ]
  },
  {
   "cell_type": "code",
   "execution_count": null,
   "metadata": {
    "collapsed": true
   },
   "outputs": [],
   "source": []
  }
 ],
 "metadata": {
  "kernelspec": {
   "display_name": "Python Virtual Env.",
   "language": "python",
   "name": "py3"
  },
  "language_info": {
   "codemirror_mode": {
    "name": "ipython",
    "version": 3
   },
   "file_extension": ".py",
   "mimetype": "text/x-python",
   "name": "python",
   "nbconvert_exporter": "python",
   "pygments_lexer": "ipython3",
   "version": "3.5.2"
  }
 },
 "nbformat": 4,
 "nbformat_minor": 2
}
