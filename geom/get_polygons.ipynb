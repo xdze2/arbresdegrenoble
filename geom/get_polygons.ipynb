{
 "cells": [
  {
   "cell_type": "code",
   "execution_count": 47,
   "metadata": {
    "collapsed": true
   },
   "outputs": [],
   "source": [
    "import sqlite3\n",
    "\n",
    "import numpy as np\n",
    "\n",
    "import matplotlib.pyplot as plt\n",
    "%matplotlib inline"
   ]
  },
  {
   "cell_type": "code",
   "execution_count": 20,
   "metadata": {
    "collapsed": true
   },
   "outputs": [],
   "source": [
    "# Lecture des zones parents :\n",
    "\n",
    "db_filename = '../data/arbres.db'\n",
    "db = sqlite3.connect(db_filename)\n",
    "\n",
    "cursor = db.cursor()"
   ]
  },
  {
   "cell_type": "code",
   "execution_count": 30,
   "metadata": {},
   "outputs": [
    {
     "name": "stdout",
     "output_type": "stream",
     "text": [
      "1445\n"
     ]
    }
   ],
   "source": [
    "cursor.execute(\"\"\" SELECT DISTINCT code_parent, code_parent_desc FROM arbres  \"\"\")\n",
    "zones_parent = { x[0]: {'name':x[1]} for x in cursor.fetchall()}\n",
    "\n",
    "print( len(zones_parent) )"
   ]
  },
  {
   "cell_type": "code",
   "execution_count": 31,
   "metadata": {},
   "outputs": [
    {
     "data": {
      "text/plain": [
       "'ESP813'"
      ]
     },
     "execution_count": 31,
     "metadata": {},
     "output_type": "execute_result"
    }
   ],
   "source": [
    "list(zones_parent.keys())[0]"
   ]
  },
  {
   "cell_type": "code",
   "execution_count": 70,
   "metadata": {},
   "outputs": [],
   "source": [
    "for code_parent, infos in zones_parent.items():\n",
    "    cursor.execute(\"\"\"\n",
    "        SELECT genre_bota, longitude, latitude FROM arbres \n",
    "        WHERE code_parent  = ?\"\"\", (code_parent, ))\n",
    "\n",
    "    #nametuples = cursor.fetchmany(10)\n",
    "    infos['arbres'] = cursor.fetchall()"
   ]
  },
  {
   "cell_type": "code",
   "execution_count": 77,
   "metadata": {},
   "outputs": [],
   "source": [
    "\n",
    "def get_coords_list( arbres ):\n",
    "    XY = [ (tree[1], tree[2])  for tree in arbres ]\n",
    "    return XY\n",
    "\n",
    "def coords_unzipped( coords ):\n",
    "    X, Y = [ uv for uv in zip( *coords )]\n",
    "    return X, Y\n",
    "\n",
    "def get_species( arbres ):\n",
    "    spec = { tree[0] for tree in arbres }\n",
    "    return spec\n",
    "\n",
    "def convert_to_meter( *XY ):\n",
    "    R =  6371008  # m , volumétrique ?\n",
    "    uv = [ np.array(u)*np.pi/180*R for u in XY ]\n",
    "    uv = [ u - np.min(u) for u in uv ]\n",
    "    return uv"
   ]
  },
  {
   "cell_type": "code",
   "execution_count": 90,
   "metadata": {},
   "outputs": [
    {
     "name": "stdout",
     "output_type": "stream",
     "text": [
      "Av Washington Pltte av J-O 56 {'Populus', None, 'Tilia'}\n"
     ]
    }
   ],
   "source": [
    "infos = list( zones_parent.values() )[1379]\n",
    "print( infos['name'], len(infos['arbres']), get_species(infos['arbres'])  )"
   ]
  },
  {
   "cell_type": "code",
   "execution_count": 91,
   "metadata": {},
   "outputs": [
    {
     "data": {
      "image/png": "[encoded data removed]",
      "text/plain": [
       "<matplotlib.figure.Figure at 0x7faea6804438>"
      ]
     },
     "metadata": {},
     "output_type": "display_data"
    }
   ],
   "source": [
    "L = get_coords_list( infos['arbres'] )\n",
    "X, Y = coords_unzipped( L )\n",
    "\n",
    "u, v = convert_to_meter( X, Y )\n",
    "plt.plot( u, v,'.' )\n",
    "plt.axis('equal');"
   ]
  },
  {
   "cell_type": "code",
   "execution_count": null,
   "metadata": {
    "collapsed": true
   },
   "outputs": [],
   "source": []
  }
 ],
 "metadata": {
  "kernelspec": {
   "display_name": "Python Virtual Env.",
   "language": "python",
   "name": "py3"
  },
  "language_info": {
   "codemirror_mode": {
    "name": "ipython",
    "version": 3
   },
   "file_extension": ".py",
   "mimetype": "text/x-python",
   "name": "python",
   "nbconvert_exporter": "python",
   "pygments_lexer": "ipython3",
   "version": "3.5.2"
  }
 },
 "nbformat": 4,
 "nbformat_minor": 2
}
