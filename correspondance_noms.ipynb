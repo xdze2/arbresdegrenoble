{
 "cells": [
  {
   "cell_type": "code",
   "execution_count": 1,
   "metadata": {
    "collapsed": true
   },
   "outputs": [],
   "source": [
    "import sqlite3\n",
    "import csv"
   ]
  },
  {
   "cell_type": "markdown",
   "metadata": {},
   "source": [
    "# Correspondance nom scientifique - nom commun"
   ]
  },
  {
   "cell_type": "code",
   "execution_count": 2,
   "metadata": {
    "collapsed": true
   },
   "outputs": [],
   "source": [
    "# Tableau de correspondance Nom latin, Nom commun :\n",
    "nomlatin_csv = 'data/nomlatin_lesarbresfr.csv'\n",
    "\n",
    "with open(nomlatin_csv, 'r') as f:\n",
    "    reader = csv.reader(f)\n",
    "    nomslatins = { row[1]: row[0] for row in reader }\n",
    "    \n",
    "    # Remarque: il y a parfois plus de 3 colonnes "
   ]
  },
  {
   "cell_type": "code",
   "execution_count": 3,
   "metadata": {
    "collapsed": true
   },
   "outputs": [],
   "source": [
    "# Lecture des triplets ( genre, espece, variete  ) :\n",
    "\n",
    "db_filename = 'data/arbres.db'\n",
    "db = sqlite3.connect(db_filename)\n",
    "\n",
    "\n",
    "cursor = db.cursor()\n",
    "\n",
    "cursor.execute(\"\"\"\n",
    "SELECT count(*) AS c, genre_bota, espece, variete FROM arbres\n",
    "GROUP BY genre_bota, espece, variete\n",
    "ORDER BY genre_bota\n",
    "             \"\"\")\n",
    "\n",
    "#nametuples = cursor.fetchmany(10)\n",
    "nametuples = cursor.fetchall()"
   ]
  },
  {
   "cell_type": "code",
   "execution_count": 49,
   "metadata": {},
   "outputs": [],
   "source": [
    "import unidecode"
   ]
  },
  {
   "cell_type": "code",
   "execution_count": 50,
   "metadata": {
    "collapsed": true
   },
   "outputs": [],
   "source": [
    "def filterlist( text, liste, startswith=False ):\n",
    "    \"\"\" retourne une nouvelle liste ne comprenant que les élements (string)\n",
    "        dans lesquels est présent text (string)\n",
    "        \n",
    "        startswith=True : force 'text' à être present au début\n",
    "    \"\"\"\n",
    "    # case insensitive\n",
    "    text = text.lower()\n",
    "    liste = [ m.lower() for m in liste ]\n",
    "    # no accent\n",
    "    text = unidecode.unidecode( text )\n",
    "    liste = [ unidecode.unidecode(m) for m in liste ]\n",
    "    \n",
    "    if startswith:\n",
    "        crible = lambda A, B: B.startswith( A )\n",
    "    else:\n",
    "        crible = lambda A, B: A in B\n",
    "\n",
    "    \n",
    "    filtered_list = [ ele for ele in liste if crible( text, ele ) ]\n",
    "    return filtered_list"
   ]
  },
  {
   "cell_type": "code",
   "execution_count": 51,
   "metadata": {},
   "outputs": [
    {
     "data": {
      "text/plain": [
       "['u', 'ui']"
      ]
     },
     "execution_count": 51,
     "metadata": {},
     "output_type": "execute_result"
    }
   ],
   "source": [
    "filterlist( 'u', ['u', 'ui', 'dfqU', 'r'], startswith=True )"
   ]
  },
  {
   "cell_type": "code",
   "execution_count": 54,
   "metadata": {},
   "outputs": [],
   "source": [
    "# def keep_commonpart\n",
    "\n",
    "def keep_only_commonpart( liste ):\n",
    "    \"\"\" ne garde que la partie présente dans toute les mots de la 'liste'\n",
    "    \"\"\"\n",
    "    \n",
    "    N = min( [len(mot) for mot in liste] )\n",
    "\n",
    "    common = []\n",
    "    for i in range(N):\n",
    "        if len( { mot[i] for mot in liste } ) == 1:\n",
    "            common.append( liste[0][i] )\n",
    "        else:\n",
    "            break\n",
    "\n",
    "    common = ''.join( common ).strip(' ')\n",
    "\n",
    "    return common"
   ]
  },
  {
   "cell_type": "code",
   "execution_count": 55,
   "metadata": {},
   "outputs": [],
   "source": [
    "def findmatch( triplet ):\n",
    "    genre, espece, variete = triplet\n",
    "        \n",
    "    nomspossibles = list( nomslatins.keys() )\n",
    "    \n",
    "    # filter\n",
    "    if genre:\n",
    "        nomspossibles = filterlist( genre, nomspossibles, startswith=True )\n",
    "   \n",
    "    if espece:\n",
    "        nomspossibles = filterlist( espece, nomspossibles )\n",
    "        \n",
    "    if variete and len(nomspossibles)>1 :\n",
    "        nomspossibles = filterlist( variete, nomspossibles )\n",
    "        \n",
    "    tuple_str = ' '.join([ str(r) if r else '-' for r in row[1:]])\n",
    "    #print( tuple_str, len( nomspossibles ) )\n",
    "    \n",
    "    if len(nomspossibles) == 1:\n",
    "        match = nomspossibles[0]\n",
    "    elif len(nomspossibles) > 1:\n",
    "        match = keep_only_commonpart( nomspossibles )\n",
    "        if match : match += '*'\n",
    "    else:\n",
    "        match = False\n",
    "        \n",
    "    return match"
   ]
  },
  {
   "cell_type": "code",
   "execution_count": 56,
   "metadata": {
    "scrolled": true
   },
   "outputs": [
    {
     "name": "stdout",
     "output_type": "stream",
     "text": [
      "294 trouvés\n",
      "547 total\n"
     ]
    }
   ],
   "source": [
    "identified = []\n",
    "non_identified = []\n",
    "for row in nametuples:\n",
    "   \n",
    "    match = findmatch( row[1:] )\n",
    "    if match:\n",
    "        identified.append(( row, match ))\n",
    "    else:\n",
    "        non_identified.append( row )\n",
    "        \n",
    "print( len(identified), 'trouvés' )\n",
    "print( len(nametuples), 'total' )"
   ]
  },
  {
   "cell_type": "markdown",
   "metadata": {},
   "source": [
    "non unique name..."
   ]
  },
  {
   "cell_type": "code",
   "execution_count": 57,
   "metadata": {},
   "outputs": [
    {
     "data": {
      "text/plain": [
       "[(783, None, None, None),\n",
       " (776, 'Liquidambar', 'styraciflua', None),\n",
       " (706, 'Betula', 'verrucosa', None),\n",
       " (423, 'Alnus', 'cordata', None),\n",
       " (414, 'Sophora', 'japonica', None),\n",
       " (336, 'Pyrus', 'calleryana', 'Chanticleer'),\n",
       " (331, 'Acer', 'saccharinum', 'Wierii'),\n",
       " (269, 'Koelreuteria', 'paniculata', None),\n",
       " (223, 'Populus', 'robusta', None),\n",
       " (160, 'Carpinus', None, 'Pyramidalis'),\n",
       " (153, 'Acer', 'cappadocicum', None),\n",
       " (142, 'Ulmus', 'minor', None),\n",
       " (110, 'Ginkgo', 'biloba', None),\n",
       " (99, 'Fraxinus', 'ornus', None),\n",
       " (97, 'Fraxinus', None, 'Flame'),\n",
       " (95, 'Betula', 'alba', None),\n",
       " (89, 'Gleditsia', 'triacanthos', 'Inermis'),\n",
       " (87, 'Catalpa', 'bignonoides', None),\n",
       " (79, 'Platanus', 'platanor', 'Vallis clausa'),\n",
       " (79, 'Quercus', 'robur', None),\n",
       " (77, 'Tetradium', 'danielli', None),\n",
       " (72, 'Cedrus', 'deodara', None),\n",
       " (70, 'Albizia', 'jullibrissin', None),\n",
       " (70, 'Alnus', 'spaethii', None),\n",
       " (69, 'Fraxinus', 'oxycarpa', 'Flame'),\n",
       " (65, 'Metasequoia', 'glyptostroboides', None),\n",
       " (53, 'Amélanchier', 'canadensis', None),\n",
       " (51, 'Quercus', 'castaneifolia', None),\n",
       " (47, 'Parrotia', 'persica', None),\n",
       " (46, 'Cedrela', 'sinensis', None),\n",
       " (46, 'Pyrus', 'calleryana', None),\n",
       " (45, 'Cladastris', 'lutea', None),\n",
       " (44, 'Celtis', 'sinensis', None),\n",
       " (42, 'Crataegus', 'oxyacantha', None),\n",
       " (42, 'Ostrya', 'carpinifolia', None),\n",
       " (42, 'Zelkova', 'crenata', 'Green vase'),\n",
       " (41, 'Pterocarya', 'fraxinifolia', None),\n",
       " (38, 'Acer', 'cappadocicum', 'Rubrum'),\n",
       " (31, 'Sambuccus', 'nigra', None),\n",
       " (30, 'Lagerstroemia', 'indica', None),\n",
       " (24, 'Fraxinus', 'pensylvanica', None),\n",
       " (24, 'Gleditsia', 'triacanthos', 'Inermis skyline'),\n",
       " (24, 'Liquidambar', 'styraciflua', 'Worplesdon'),\n",
       " (24, 'Thuja', None, None),\n",
       " (23, 'Betula', 'papyrifera', None),\n",
       " (23, 'Paulownia', 'fortunei', None),\n",
       " (23, 'Tilia', 'mongolica', None),\n",
       " (22, 'Trachycarpus', 'fortunei', None),\n",
       " (21, 'Acer', 'freemanii', None),\n",
       " (20, 'Fraxinus', None, 'Raywood'),\n",
       " (20, 'Pinus', 'griffiti', None),\n",
       " (19, 'Abies', 'nordmaniana', None),\n",
       " (19, 'Acer', 'buergerianum', None),\n",
       " (19, 'Fraxinus', 'sieboldii', None),\n",
       " (18, 'Eleagnus', 'angustifolia', None),\n",
       " (18, 'Thuja', 'plicata', None),\n",
       " (17, 'Pyrus', 'calleryana', 'Capital'),\n",
       " (17, 'Ulmus', 'resista', None),\n",
       " (15, 'Acer', 'freemanii', 'Celsam'),\n",
       " (15, 'Sorbus', 'torminalis', None),\n",
       " (14, 'Crataegus', 'monogyna', None),\n",
       " (14, 'Morus', 'bombycis', 'Fruitless'),\n",
       " (13, 'Amélanchier', 'lamarckii', None),\n",
       " (13, 'Fraxinus', 'mandshurica', 'Mancana'),\n",
       " (12, 'Magnolia', 'kobus', None),\n",
       " (12, 'Malus', 'sieboldii', None),\n",
       " (12, 'Prunus', 'yedoensis', 'Shidare yoshino'),\n",
       " (11, 'Acer', 'freemanii', 'Autumn blaze'),\n",
       " (11, 'Cotinus', 'coggygria', None),\n",
       " (11, 'Fagus', 'sylvatica', 'Fastigiata'),\n",
       " (11, 'Fraxinus', 'ornus', 'Raywood'),\n",
       " (11, 'Pyrus', 'nivalis', 'Eleagnifolia'),\n",
       " (11, 'Sorbus', 'magnifica', None),\n",
       " (10, 'Pyrus', 'amygdaliformis', None),\n",
       " (10, 'Salix', 'alba', 'Tristis'),\n",
       " (9, 'Fraxinus', 'excelsior', 'Raywood'),\n",
       " (9, 'Malus', 'baccata', 'Street parade'),\n",
       " (9, 'Malus', 'tschonoskii', None),\n",
       " (9, 'Pinus', 'sylvatica', None),\n",
       " (9, 'Prunus', 'subhirtella', None),\n",
       " (9, 'Pteroceltis', 'tatarinowii', None),\n",
       " (9, 'Quercus', 'robur', 'Fastigiata'),\n",
       " (9, 'Quercus', 'salicifolia', None),\n",
       " (9, 'Taxodium', 'distychum', None),\n",
       " (8, 'Lagerstroemia', 'indica', 'Yang'),\n",
       " (8, 'Malus', 'domestica', None),\n",
       " (8, 'Populus', 'simonii', None),\n",
       " (7, 'Fagus', 'sylvatica', 'Dawyck gold'),\n",
       " (7, 'Morus', 'kagayamae', None),\n",
       " (7, 'Pistacia', 'chinensis', None),\n",
       " (7, 'Prunus', 'spinosa', None),\n",
       " (7, 'Syringa', 'amurense', None),\n",
       " (7, 'Tetradium', 'danielli', 'Hupehensis'),\n",
       " (6, None, 'kobus', None),\n",
       " (6, 'Cercidiphyllum', 'japonicum', None),\n",
       " (6, 'Fagus', 'sylvatica', 'Fast gold'),\n",
       " (6, 'Malus', 'everest', 'Perpetu'),\n",
       " (6, 'Malus', 'golden', 'Hornett'),\n",
       " (6, 'Prunus', 'domestica', None),\n",
       " (6, 'Pterostyrax', 'hispida', None),\n",
       " (6, 'Quercus', 'castaneifolia', 'Greenspire'),\n",
       " (6, 'Rhus', 'thyphina', None),\n",
       " (6, 'Thuja', 'occidentalis', None),\n",
       " (6, 'Tilia', 'europaea', None),\n",
       " (6, 'Ulmus', 'resista', 'Sapporo autumn gold'),\n",
       " (5, 'Cornus', 'florida', 'Chirokee chief'),\n",
       " (5, 'Fraxinus', 'excelsior', 'Jaspidea'),\n",
       " (5, 'Laburnum', 'anagynoides', None),\n",
       " (5, 'Maclura', 'pomifera', None),\n",
       " (5, 'Olea', 'europaea', None),\n",
       " (5, 'Prunus', 'domestica', 'Mirabelle de Nancy'),\n",
       " (5, 'Prunus', 'dulcis', None),\n",
       " (5, 'Prunus', 'subhirtella', 'Autumnalis'),\n",
       " (5, 'Salix', 'alba', 'Calva'),\n",
       " (5, 'Salix', 'triandra', None),\n",
       " (4, 'Acer', 'opalus', None),\n",
       " (4, 'Betula', 'verrucosa', 'Jacquemontïi'),\n",
       " (4, 'Calocedrus', 'decurrens', None),\n",
       " (4, 'Cercis', 'chinensis', None),\n",
       " (4, 'Chitalpa', 'tashkentensis', None),\n",
       " (4, 'Malus', 'everest', None),\n",
       " (4, 'Malus', 'perpetu', 'Everesta'),\n",
       " (4, 'Malus', 'tschonoskii', 'Pyramidalis'),\n",
       " (4, 'Morus', 'kagayamae', 'Fruitless'),\n",
       " (4, 'Picea', 'exelsa', None),\n",
       " (4, 'Prunus', 'cerasus', 'Bigarreau burlat'),\n",
       " (4, 'Pterocarya', 'stenoptera', None),\n",
       " (4, 'Sorbus', 'cuspidata', None),\n",
       " (3, None, 'fragmantissima', None),\n",
       " (3, 'Acer', None, 'Elsrike'),\n",
       " (3, 'Acer', 'cappadocicum', 'Aureum'),\n",
       " (3, 'Cephalotaxus', 'harringtonia', None),\n",
       " (3, 'Clerodendron', 'tricotonum', None),\n",
       " (3, 'Crataegus', 'lavallei', 'Carrieri'),\n",
       " (3, 'Cupressus', None, 'Fastigiata'),\n",
       " (3, 'Cupressus', 'nooktensis', None),\n",
       " (3, 'Eriobotrya ', 'japonica', None),\n",
       " (3, 'Euodia', 'danielli', None),\n",
       " (3, 'Fagus', 'sylvatica', 'Purpurea pendula'),\n",
       " (3, 'Fontanesia', 'phillyreoides', 'Fortunei'),\n",
       " (3, 'Fraxinus', 'excelsior', 'Pendula'),\n",
       " (3, 'Ligustrum', 'sinense', None),\n",
       " (3, 'Magnolia', 'black', 'Tulipe'),\n",
       " (3, 'Malus', 'hupehensis', None),\n",
       " (3, 'Phillyrea', 'latifolia', None),\n",
       " (3, 'Prunus', 'domestica', 'Reine claude'),\n",
       " (3, 'Quercus', 'variabilis', None),\n",
       " (3, 'Styrax', 'japonica', None),\n",
       " (3, 'Taxus', 'ibernica', None),\n",
       " (2, 'Acer', 'heldreichii', None),\n",
       " (2, 'Acer', 'nikoense', None),\n",
       " (2, 'Aesculus', 'chandelle seche', None),\n",
       " (2, 'Albizia', None, None),\n",
       " (2, 'Amélanchier', 'novalis', None),\n",
       " (2, 'Cercis', 'canadensis', None),\n",
       " (2, 'Chionanthus', 'virginiacus', None),\n",
       " (2, 'Clerodendron', None, 'Fargesii'),\n",
       " (2, 'Fraxinus', 'excelsior', 'Westhoff glorie'),\n",
       " (2, 'Fraxinus', 'ornus', 'Mecsek'),\n",
       " (2, 'Fraxinus', 'oxycarpa', None),\n",
       " (2, 'Gleditsia', 'elaeagnifolia', None),\n",
       " (2, 'Hovenia', 'dulcis', None),\n",
       " (2, 'Koelreuteria', 'paniculata', 'Fastigiata'),\n",
       " (2, 'Laburnum', 'cytisus', None),\n",
       " (2, 'Ligustrum', 'japonicum', None),\n",
       " (2, 'Magnolia', 'stellata', None),\n",
       " (2, 'Ostrya', 'carpinifolia', 'Chanticleer'),\n",
       " (2, 'Prunus', 'campanulata', None),\n",
       " (2, 'Prunus', 'cerasus', 'Pink Giant'),\n",
       " (2, 'Prunus', 'domestica', \"Quetsche d'Alsace\"),\n",
       " (2, 'Prunus', 'domestica', \"Reine Claude d'Althan\"),\n",
       " (2, 'Pteroceltis', 'tatarinowii', 'Maxim'),\n",
       " (2, 'Punica', 'granatum', 'Legrelliae'),\n",
       " (2, 'Pyrus', 'pendula', None),\n",
       " (2, 'Salix', 'chrysocoma', None),\n",
       " (2, 'Ulmus', 'montana', None),\n",
       " (1, 'Acer', None, 'Fastigiata'),\n",
       " (1, 'Acer', 'tartarica', None),\n",
       " (1, 'Acer', 'tartaricum', None),\n",
       " (1, 'Acer', 'zoeschense', 'Annae'),\n",
       " (1, 'Albizia', 'jullibrissin', 'Ombrella'),\n",
       " (1, 'Alnus', 'glutinosa', 'Stricta'),\n",
       " (1, 'Amélanchier', 'alnifolia', None),\n",
       " (1, 'Betula', 'laciniata', None),\n",
       " (1, 'Betula', 'pendula roth', None),\n",
       " (1, 'Cedrus', 'deodara', 'Glauca'),\n",
       " (1, 'Cedrus', 'sinensis', None),\n",
       " (1, 'Celtis', 'julianae', None),\n",
       " (1, 'Cercidiphyllum', 'magnificum', None),\n",
       " (1, 'Chamaecyparis', 'formonensis', None),\n",
       " (1, 'Chamaecyparis', 'nooktensis', None),\n",
       " (1, 'Chamaecyparis', 'pisifera', None),\n",
       " (1, 'Crataegus', 'lavallei', None),\n",
       " (1, 'Cydonia', 'vulgaris', None),\n",
       " (1, 'Diospyros', None, 'Fuyu'),\n",
       " (1, 'Eleagnus', None, None),\n",
       " (1, 'Eucalyptus', 'gunii', None),\n",
       " (1, 'Fontanesia', 'phillyreoides', None),\n",
       " (1, 'Fraxinus', 'excelsior', 'Altena'),\n",
       " (1, 'Fraxinus', 'excelsior', 'Schwedleri nigra'),\n",
       " (1, 'Fraxinus', 'ornus', 'Mariesii'),\n",
       " (1, 'Fraxinus', 'quadrangulata', None),\n",
       " (1, 'Laburnum', 'watereri', None),\n",
       " (1, 'Libocedrus', 'decurrens', 'Aureo variegata'),\n",
       " (1, 'Magnolia', 'heptapeta', None),\n",
       " (1, 'Malus', 'coromaria', 'Charlottae'),\n",
       " (1, 'Malus', 'deboeri', 'Evelyn'),\n",
       " (1, 'Malus', 'domestica', 'Astrakan'),\n",
       " (1, 'Malus', 'domestica', \"D'Eylau\"),\n",
       " (1, 'Malus', 'domestica', 'Franc roseau'),\n",
       " (1, 'Malus', 'domestica', 'Golden délicious'),\n",
       " (1, 'Malus', 'domestica', 'Nationale'),\n",
       " (1, 'Malus', 'domestica', 'Reinette Vignat'),\n",
       " (1, 'Malus', 'golden', 'Delicious'),\n",
       " (1, 'Malus', 'royalty', None),\n",
       " (1, 'Malus', 'star king', None),\n",
       " (1, 'Metasequoia', 'sempervirens', None),\n",
       " (1, 'Nerprun', 'alaternus', None),\n",
       " (1, 'Philodendron', 'erubescens', None),\n",
       " (1, 'Pinus', 'mughus', 'Scop'),\n",
       " (1, 'Pinus', 'mugo mughus', None),\n",
       " (1, 'Poncinos', None, None),\n",
       " (1, 'Populus', 'nigra', 'Planteriensis'),\n",
       " (1, 'Populus', 'nigra', 'Reine claude'),\n",
       " (1, 'Populus', 'nigra', 'Shidare yoshino'),\n",
       " (1, 'Prunus', None, 'Autumnalis'),\n",
       " (1, 'Prunus', 'cerasifera', 'Myrobolan'),\n",
       " (1, 'Prunus', 'communis', 'Doyenne du comice'),\n",
       " (1, 'Prunus', 'domestica', 'Cul de Poulet'),\n",
       " (1, 'Prunus', 'dulcis', 'Ardéchoise'),\n",
       " (1, 'Prunus', 'incisa', None),\n",
       " (1, 'Prunus', 'tomentosa', 'Graeberiana'),\n",
       " (1, 'Pteroceltis', None, 'Maxim'),\n",
       " (1, 'Quercus', 'hispanica', 'Lucombeana'),\n",
       " (1, 'Quercus', 'phellos', None),\n",
       " (1, 'Quercus', 'robur', 'Pedonculata'),\n",
       " (1, 'Rhus', 'trilobata', None),\n",
       " (1, 'Robinia', 'altissima', None),\n",
       " (1, 'Robinia', 'platanoides', None),\n",
       " (1, 'Salix', 'sepulcralis', None),\n",
       " (1, 'Sciadopitys', 'verticulata', None),\n",
       " (1, 'Sophora', 'japonica', 'Pubescens'),\n",
       " (1, 'Sorbopyrus', 'auricularis', None),\n",
       " (1, 'Sorbus', 'chamaemespilus', 'Autumnalis'),\n",
       " (1, 'Staphylea', 'bumalda', None),\n",
       " (1, 'Sterculia', None, None),\n",
       " (1, 'Syringa', 'reticulata', 'Amurensis'),\n",
       " (1, 'Taxus', 'baccata', 'David'),\n",
       " (1, 'Tetradium', 'tomentosa', None),\n",
       " (1, 'Ulmus', 'minor', 'Atropurpurea'),\n",
       " (1, 'Ulmus', 'new horizon', None),\n",
       " (1, 'Ulmus', 'procera ', None),\n",
       " (1, 'Ulmus', 'pumila', None)]"
      ]
     },
     "execution_count": 57,
     "metadata": {},
     "output_type": "execute_result"
    }
   ],
   "source": [
    "sorted( non_identified, key=lambda x:x[0], reverse=True )"
   ]
  },
  {
   "cell_type": "code",
   "execution_count": 9,
   "metadata": {
    "collapsed": true
   },
   "outputs": [],
   "source": [
    "db.close()"
   ]
  },
  {
   "cell_type": "code",
   "execution_count": null,
   "metadata": {
    "collapsed": true
   },
   "outputs": [],
   "source": []
  },
  {
   "cell_type": "code",
   "execution_count": null,
   "metadata": {
    "collapsed": true
   },
   "outputs": [],
   "source": []
  },
  {
   "cell_type": "code",
   "execution_count": null,
   "metadata": {},
   "outputs": [],
   "source": [
    "# Tableau de correspondance Nom latin, Nom commun :\n",
    "nomlatin_csv = 'data/nomlatin_lesarbresfr.csv'\n",
    "\n",
    "with open(nomlatin_csv, 'r') as f:\n",
    "    reader = csv.reader(f)\n",
    "    nomslatins = { row[1]: row[0] for row in reader }\n",
    "    \n",
    "    # Remarque: il y a parfois plus de 3 colonnes "
   ]
  },
  {
   "cell_type": "code",
   "execution_count": null,
   "metadata": {},
   "outputs": [],
   "source": [
    "nomslatins"
   ]
  },
  {
   "cell_type": "code",
   "execution_count": null,
   "metadata": {},
   "outputs": [],
   "source": [
    "for row in reader:\n",
    "    print( row )"
   ]
  },
  {
   "cell_type": "code",
   "execution_count": null,
   "metadata": {
    "collapsed": true
   },
   "outputs": [],
   "source": []
  }
 ],
 "metadata": {
  "kernelspec": {
   "display_name": "Python Virtual Env.",
   "language": "python",
   "name": "py3"
  },
  "language_info": {
   "codemirror_mode": {
    "name": "ipython",
    "version": 3
   },
   "file_extension": ".py",
   "mimetype": "text/x-python",
   "name": "python",
   "nbconvert_exporter": "python",
   "pygments_lexer": "ipython3",
   "version": "3.5.2"
  }
 },
 "nbformat": 4,
 "nbformat_minor": 2
}
