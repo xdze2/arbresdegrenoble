{
 "cells": [
  {
   "cell_type": "code",
   "execution_count": 1,
   "metadata": {
    "collapsed": true
   },
   "outputs": [],
   "source": [
    "import sqlite3\n",
    "import csv"
   ]
  },
  {
   "cell_type": "markdown",
   "metadata": {},
   "source": [
    "# Correspondance nom scientifique - nom commun"
   ]
  },
  {
   "cell_type": "code",
   "execution_count": 2,
   "metadata": {},
   "outputs": [
    {
     "name": "stdout",
     "output_type": "stream",
     "text": [
      "558\n"
     ]
    }
   ],
   "source": [
    "# Tableau de correspondance Nom latin, Nom commun :\n",
    "# from   http://www.lesarbres.fr/noms-des-arbres-latin-.html\n",
    "\n",
    "nomlatin_csv = 'data/nomlatin_lesarbresfr.csv'\n",
    "\n",
    "with open(nomlatin_csv, 'r') as f:\n",
    "    reader = csv.reader(f, delimiter=';')\n",
    "    \n",
    "    nomslatins = {}\n",
    "    for row in reader:\n",
    "        nomvernaculaire = row[0]\n",
    "            \n",
    "        # Remarque: il y a parfois plusieur nom latin proposé\n",
    "        all_latinname = [ n.strip() for n in  row[1].split(',') ]\n",
    "\n",
    "        for latinname in all_latinname:\n",
    "            nomslatins[latinname] = nomvernaculaire\n",
    "\n",
    "\n",
    "print(len(nomslatins))"
   ]
  },
  {
   "cell_type": "code",
   "execution_count": 3,
   "metadata": {
    "collapsed": true
   },
   "outputs": [],
   "source": [
    "# Lecture des triplets ( genre, espece, variete  ) :\n",
    "\n",
    "db_filename = 'data/arbres.db'\n",
    "db = sqlite3.connect(db_filename)\n",
    "\n",
    "\n",
    "cursor = db.cursor()\n",
    "\n",
    "cursor.execute(\"\"\"\n",
    "            SELECT count(*) AS c, genre_bota, espece, variete FROM arbres\n",
    "            GROUP BY genre_bota, espece, variete\n",
    "            ORDER BY genre_bota\n",
    "             \"\"\")\n",
    "\n",
    "#nametuples = cursor.fetchmany(10)\n",
    "nametuples = cursor.fetchall()"
   ]
  },
  {
   "cell_type": "code",
   "execution_count": 4,
   "metadata": {
    "collapsed": true
   },
   "outputs": [],
   "source": [
    "import unidecode"
   ]
  },
  {
   "cell_type": "code",
   "execution_count": 5,
   "metadata": {
    "collapsed": true
   },
   "outputs": [],
   "source": [
    "def normalize( text ):\n",
    "    text = text.lower()   # case insensitive\n",
    "    text = unidecode.unidecode( text )  # no accent\n",
    "    return text"
   ]
  },
  {
   "cell_type": "code",
   "execution_count": 6,
   "metadata": {
    "collapsed": true
   },
   "outputs": [],
   "source": [
    "def filterlist( text, liste, startswith=False ):\n",
    "    \"\"\" retourne une nouvelle liste ne comprenant que les élements (string)\n",
    "        dans lesquels est présent text (string)\n",
    "        \n",
    "        startswith=True : force 'text' à être present au début\n",
    "    \"\"\"\n",
    "    if not text: return []\n",
    "    \n",
    "    text = normalize( text )\n",
    "    \n",
    "    # specials rules  (by hand)\n",
    "    if text == 'thuja': text = 'thuya'\n",
    "    if text == 'sambuccus': text = 'sambucus'\n",
    "    if text == 'sambuccus': text = 'sambucus'\n",
    "    if text == 'cladastris': text = 'cladrastis'\n",
    "    if text == 'eleagnus': text = 'elaeagnus'\n",
    "    if text == 'pistacia': text = 'pistachia'\n",
    "         \n",
    "    # starts with  or  inside ?\n",
    "    if startswith:\n",
    "        crible = lambda A, B: B.startswith( A )\n",
    "    else:\n",
    "        crible = lambda A, B: A in B\n",
    "\n",
    "    filtered_list = [ ele for ele in liste if crible( text, normalize(ele) ) ]\n",
    "    return filtered_list"
   ]
  },
  {
   "cell_type": "code",
   "execution_count": 7,
   "metadata": {
    "collapsed": true
   },
   "outputs": [],
   "source": [
    "def keep_only_commonpart( liste ):\n",
    "    \"\"\" ne garde que les lettres présentent dans tous les mots de la 'liste', en partant début\n",
    "    \"\"\"\n",
    "    \n",
    "    N = min( [len(mot) for mot in liste] )\n",
    "\n",
    "    common = []\n",
    "    for i in range(N):\n",
    "        if len( { mot[i] for mot in liste } ) == 1:\n",
    "            common.append( liste[0][i] )\n",
    "        else:\n",
    "            break\n",
    "\n",
    "    common = ''.join( common ).strip(' ')\n",
    "\n",
    "    return common"
   ]
  },
  {
   "cell_type": "raw",
   "metadata": {},
   "source": [
    "# test keep_only_commonpart\n",
    "filterlist( 'u', ['u', 'ui', 'dfqU', 'r'], startswith=True )"
   ]
  },
  {
   "cell_type": "code",
   "execution_count": 21,
   "metadata": {
    "collapsed": true
   },
   "outputs": [],
   "source": [
    "def findmatch( triplet ):\n",
    "    \"\"\" pour un triplet (genre, espece, variete) cherche le nom scientifique de la liste\n",
    "        qui correspond le mieux\n",
    "        retourne Faux si non trouvé\n",
    "        retourne la partie commune si plusieurs possibilités. Elle peut être nulle. \n",
    "    \"\"\"\n",
    "    \n",
    "    genre, espece, variete = triplet\n",
    "        \n",
    "    nomspossibles = list( nomslatins.keys() )\n",
    "    \n",
    "    # filter\n",
    "    nomspossibles_G = filterlist( genre, nomspossibles, startswith=True )\n",
    "    \n",
    "    if len(nomspossibles_G) == 1 :\n",
    "        key = nomspossibles_G[0]\n",
    "        return nomslatins[ key ]\n",
    "    elif len(nomspossibles_G) == 0 :\n",
    "        return False\n",
    "    else:\n",
    "        \n",
    "        nomspossibles_GE = filterlist( espece, nomspossibles_G )\n",
    "        \n",
    "        if len(nomspossibles_GE) ==  1:\n",
    "            key = nomspossibles_GE[0]\n",
    "            return nomslatins[ key ]\n",
    "        elif len(nomspossibles_GE) == 0 :\n",
    "            nomsfr_possibles = [ nomslatins[ key ] for key in nomspossibles_G ]\n",
    "            nomfr = keep_only_commonpart( nomsfr_possibles )\n",
    "            if nomfr : nomfr += ' *'\n",
    "            return nomfr\n",
    "        \n",
    "        else:\n",
    "            \n",
    "            nomspossibles_GEV = filterlist( variete, nomspossibles_GE )\n",
    "            \n",
    "            if len(nomspossibles_GEV) ==  1:\n",
    "                key = nomspossibles_GEV[0]\n",
    "                return nomslatins[ key ]\n",
    "            elif len(nomspossibles_GEV) == 0 :\n",
    "                nomsfr_possibles = [ nomslatins[ key ] for key in nomspossibles_GE ]\n",
    "                nomfr = keep_only_commonpart( nomsfr_possibles )\n",
    "                if nomfr : nomfr += ' *'\n",
    "                return nomfr\n",
    "            else:\n",
    "                nomsfr_possibles = [ nomslatins[ key ] for key in nomspossibles_GEV ]\n",
    "                nomfr = keep_only_commonpart( nomsfr_possibles )\n",
    "                if nomfr : nomfr += ' *'\n",
    "                return nomfr\n",
    "            "
   ]
  },
  {
   "cell_type": "code",
   "execution_count": 22,
   "metadata": {
    "scrolled": false
   },
   "outputs": [
    {
     "name": "stdout",
     "output_type": "stream",
     "text": [
      "482 triplet trouvés\n",
      "65 non trouvés\n",
      "547 au total\n"
     ]
    }
   ],
   "source": [
    "identified = []\n",
    "non_identified = []\n",
    "for row in nametuples:\n",
    "    row = list( row )\n",
    "    nomfr = findmatch( row[1:] )\n",
    "    if nomfr:\n",
    "        row.append( nomfr )\n",
    "        identified.append( row )\n",
    "    else:\n",
    "        nomfr = ' '.join( [ txt for txt in row[1:] if txt ] )\n",
    "        row.append( nomfr )\n",
    "        non_identified.append( row )\n",
    "        \n",
    "print( len(identified), 'triplet trouvés' )\n",
    "print( len(non_identified), 'non trouvés' )\n",
    "print( len(nametuples), 'au total' )"
   ]
  },
  {
   "cell_type": "code",
   "execution_count": 23,
   "metadata": {
    "scrolled": false
   },
   "outputs": [
    {
     "name": "stdout",
     "output_type": "stream",
     "text": [
      "783 ~ ~ ~  [~]   https://www.google.fr/search?q=&lr=lang_fr\n",
      "110 Prunus ~ ~  [Prunus]   https://www.google.fr/search?q=Prunus&lr=lang_fr\n",
      " 76 Aesculus ~ ~  [Aesculus]   https://www.google.fr/search?q=Aesculus&lr=lang_fr\n",
      " 44 Celtis sinensis ~  [Celtis sinensis]   https://www.google.fr/search?q=Celtis+sinensis&lr=lang_fr\n",
      " 42 Zelkova crenata Green vase  [Zelkova crenata Green vase]   https://www.google.fr/search?q=Zelkova+crenata&lr=lang_fr\n",
      " 28 Prunus cerasus ~  [Prunus cerasus]   https://www.google.fr/search?q=Prunus+cerasus&lr=lang_fr\n",
      " 17 Sorbus aria ~  [Sorbus aria]   https://www.google.fr/search?q=Sorbus+aria&lr=lang_fr\n",
      " 12 Prunus yedoensis Shidare yoshino  [Prunus yedoensis Shidare yoshino]   https://www.google.fr/search?q=Prunus+yedoensis&lr=lang_fr\n",
      " 12 Sorbus ~ ~  [Sorbus]   https://www.google.fr/search?q=Sorbus&lr=lang_fr\n",
      " 11 Sorbus magnifica ~  [Sorbus magnifica]   https://www.google.fr/search?q=Sorbus+magnifica&lr=lang_fr\n",
      " 10 Photinia ~ ~  [Photinia]   https://www.google.fr/search?q=Photinia&lr=lang_fr\n",
      " 10 Zelkova ~ ~  [Zelkova]   https://www.google.fr/search?q=Zelkova&lr=lang_fr\n",
      "  9 Prunus subhirtella ~  [Prunus subhirtella]   https://www.google.fr/search?q=Prunus+subhirtella&lr=lang_fr\n",
      "  9 Pteroceltis tatarinowii ~  [Pteroceltis tatarinowii]   https://www.google.fr/search?q=Pteroceltis+tatarinowii&lr=lang_fr\n",
      "  7 Picea ~ ~  [Picea]   https://www.google.fr/search?q=Picea&lr=lang_fr\n",
      "  7 Prunus spinosa ~  [Prunus spinosa]   https://www.google.fr/search?q=Prunus+spinosa&lr=lang_fr\n",
      "  6 ~ kobus ~  [kobus]   https://www.google.fr/search?q=kobus&lr=lang_fr\n",
      "  6 Prunus domestica ~  [Prunus domestica]   https://www.google.fr/search?q=Prunus+domestica&lr=lang_fr\n",
      "  6 Pterostyrax hispida ~  [Pterostyrax hispida]   https://www.google.fr/search?q=Pterostyrax+hispida&lr=lang_fr\n",
      "  6 Rhus thyphina ~  [Rhus thyphina]   https://www.google.fr/search?q=Rhus+thyphina&lr=lang_fr\n",
      "  5 Celtis ~ ~  [Celtis]   https://www.google.fr/search?q=Celtis&lr=lang_fr\n",
      "  5 Prunus domestica Mirabelle de Nancy  [Prunus domestica Mirabelle de Nancy]   https://www.google.fr/search?q=Prunus+domestica&lr=lang_fr\n",
      "  5 Prunus dulcis ~  [Prunus dulcis]   https://www.google.fr/search?q=Prunus+dulcis&lr=lang_fr\n",
      "  5 Prunus subhirtella Autumnalis  [Prunus subhirtella Autumnalis]   https://www.google.fr/search?q=Prunus+subhirtella&lr=lang_fr\n",
      "  4 Chitalpa tashkentensis ~  [Chitalpa tashkentensis]   https://www.google.fr/search?q=Chitalpa+tashkentensis&lr=lang_fr\n",
      "  4 Picea exelsa ~  [Picea exelsa]   https://www.google.fr/search?q=Picea+exelsa&lr=lang_fr\n",
      "  4 Prunus cerasus Bigarreau burlat  [Prunus cerasus Bigarreau burlat]   https://www.google.fr/search?q=Prunus+cerasus&lr=lang_fr\n",
      "  4 Sorbus cuspidata ~  [Sorbus cuspidata]   https://www.google.fr/search?q=Sorbus+cuspidata&lr=lang_fr\n",
      "  3 ~ fragmantissima ~  [fragmantissima]   https://www.google.fr/search?q=fragmantissima&lr=lang_fr\n",
      "  3 Chamaecyparis ~ ~  [Chamaecyparis]   https://www.google.fr/search?q=Chamaecyparis&lr=lang_fr\n",
      "  3 Clerodendron tricotonum ~  [Clerodendron tricotonum]   https://www.google.fr/search?q=Clerodendron+tricotonum&lr=lang_fr\n",
      "  3 Euodia danielli ~  [Euodia danielli]   https://www.google.fr/search?q=Euodia+danielli&lr=lang_fr\n",
      "  3 Fontanesia phillyreoides Fortunei  [Fontanesia phillyreoides Fortunei]   https://www.google.fr/search?q=Fontanesia+phillyreoides&lr=lang_fr\n",
      "  3 Prunus domestica Reine claude  [Prunus domestica Reine claude]   https://www.google.fr/search?q=Prunus+domestica&lr=lang_fr\n",
      "  2 Aesculus chandelle seche ~  [Aesculus chandelle seche]   https://www.google.fr/search?q=Aesculus+chandelle seche&lr=lang_fr\n",
      "  2 Araucaria ~ ~  [Araucaria]   https://www.google.fr/search?q=Araucaria&lr=lang_fr\n",
      "  2 Clerodendron ~ Fargesii  [Clerodendron Fargesii]   https://www.google.fr/search?q=Clerodendron&lr=lang_fr\n",
      "  2 Hovenia dulcis ~  [Hovenia dulcis]   https://www.google.fr/search?q=Hovenia+dulcis&lr=lang_fr\n",
      "  2 Prunus campanulata ~  [Prunus campanulata]   https://www.google.fr/search?q=Prunus+campanulata&lr=lang_fr\n",
      "  2 Prunus cerasus Pink Giant  [Prunus cerasus Pink Giant]   https://www.google.fr/search?q=Prunus+cerasus&lr=lang_fr\n",
      "  2 Prunus domestica Quetsche d'Alsace  [Prunus domestica Quetsche d'Alsace]   https://www.google.fr/search?q=Prunus+domestica&lr=lang_fr\n",
      "  2 Prunus domestica Reine Claude d'Althan  [Prunus domestica Reine Claude d'Althan]   https://www.google.fr/search?q=Prunus+domestica&lr=lang_fr\n",
      "  2 Pteroceltis tatarinowii Maxim  [Pteroceltis tatarinowii Maxim]   https://www.google.fr/search?q=Pteroceltis+tatarinowii&lr=lang_fr\n",
      "  1 Celtis julianae ~  [Celtis julianae]   https://www.google.fr/search?q=Celtis+julianae&lr=lang_fr\n",
      "  1 Chamaecyparis formonensis ~  [Chamaecyparis formonensis]   https://www.google.fr/search?q=Chamaecyparis+formonensis&lr=lang_fr\n",
      "  1 Chamaecyparis nooktensis ~  [Chamaecyparis nooktensis]   https://www.google.fr/search?q=Chamaecyparis+nooktensis&lr=lang_fr\n",
      "  1 Chamaecyparis pisifera ~  [Chamaecyparis pisifera]   https://www.google.fr/search?q=Chamaecyparis+pisifera&lr=lang_fr\n",
      "  1 Diospyros ~ Fuyu  [Diospyros Fuyu]   https://www.google.fr/search?q=Diospyros&lr=lang_fr\n",
      "  1 Eleagnus ~ ~  [Eleagnus]   https://www.google.fr/search?q=Eleagnus&lr=lang_fr\n",
      "  1 Ficus ~ ~  [Ficus]   https://www.google.fr/search?q=Ficus&lr=lang_fr\n",
      "  1 Fontanesia phillyreoides ~  [Fontanesia phillyreoides]   https://www.google.fr/search?q=Fontanesia+phillyreoides&lr=lang_fr\n",
      "  1 Nerprun alaternus ~  [Nerprun alaternus]   https://www.google.fr/search?q=Nerprun+alaternus&lr=lang_fr\n",
      "  1 Philodendron erubescens ~  [Philodendron erubescens]   https://www.google.fr/search?q=Philodendron+erubescens&lr=lang_fr\n",
      "  1 Poncinos ~ ~  [Poncinos]   https://www.google.fr/search?q=Poncinos&lr=lang_fr\n",
      "  1 Prunus ~ Autumnalis  [Prunus Autumnalis]   https://www.google.fr/search?q=Prunus&lr=lang_fr\n",
      "  1 Prunus communis Doyenne du comice  [Prunus communis Doyenne du comice]   https://www.google.fr/search?q=Prunus+communis&lr=lang_fr\n",
      "  1 Prunus domestica Cul de Poulet  [Prunus domestica Cul de Poulet]   https://www.google.fr/search?q=Prunus+domestica&lr=lang_fr\n",
      "  1 Prunus dulcis Ardéchoise  [Prunus dulcis Ardéchoise]   https://www.google.fr/search?q=Prunus+dulcis&lr=lang_fr\n",
      "  1 Prunus incisa ~  [Prunus incisa]   https://www.google.fr/search?q=Prunus+incisa&lr=lang_fr\n",
      "  1 Prunus tomentosa Graeberiana  [Prunus tomentosa Graeberiana]   https://www.google.fr/search?q=Prunus+tomentosa&lr=lang_fr\n",
      "  1 Pteroceltis ~ Maxim  [Pteroceltis Maxim]   https://www.google.fr/search?q=Pteroceltis&lr=lang_fr\n",
      "  1 Rhus trilobata ~  [Rhus trilobata]   https://www.google.fr/search?q=Rhus+trilobata&lr=lang_fr\n",
      "  1 Sorbopyrus auricularis ~  [Sorbopyrus auricularis]   https://www.google.fr/search?q=Sorbopyrus+auricularis&lr=lang_fr\n",
      "  1 Sorbus chamaemespilus Autumnalis  [Sorbus chamaemespilus Autumnalis]   https://www.google.fr/search?q=Sorbus+chamaemespilus&lr=lang_fr\n",
      "  1 Staphylea bumalda ~  [Staphylea bumalda]   https://www.google.fr/search?q=Staphylea+bumalda&lr=lang_fr\n"
     ]
    }
   ],
   "source": [
    "# trié par nombre d'arbres :\n",
    "non_identified_sorted = sorted( non_identified, key=lambda x:x[0], reverse=True )\n",
    "\n",
    "for noid in non_identified_sorted:\n",
    "    \n",
    "    googleit = 'https://www.google.fr/search?q=%s&lr=lang_fr' % '+'.join( [ s for s in noid[1:3] if s ] )\n",
    "    \n",
    "    noid = [ s if s else '~' for s in noid ]\n",
    "    print( '{:>3} {} {} {}  [{}]   {}'.format( *noid,  googleit) )"
   ]
  },
  {
   "cell_type": "code",
   "execution_count": 24,
   "metadata": {},
   "outputs": [],
   "source": [
    "# save in the DB\n",
    "cursor.execute(\"\"\"  DROP TABLE IF EXISTS nomsfr  \"\"\")\n",
    "db.commit()"
   ]
  },
  {
   "cell_type": "code",
   "execution_count": 25,
   "metadata": {},
   "outputs": [
    {
     "data": {
      "text/plain": [
       "<sqlite3.Cursor at 0x7f5b6da69650>"
      ]
     },
     "execution_count": 25,
     "metadata": {},
     "output_type": "execute_result"
    }
   ],
   "source": [
    "cursor.execute(\"\"\"\n",
    "CREATE TABLE IF NOT EXISTS nomsfr (\n",
    "                     id INTEGER PRIMARY KEY,\n",
    "                     nbrarbres INTEGER,\n",
    "                     genre_bota TEXT,\n",
    "                     espece TEXT,\n",
    "                     variete TEXT,\n",
    "                     nomfr TEXT      \n",
    "                )\n",
    "                \"\"\")"
   ]
  },
  {
   "cell_type": "code",
   "execution_count": 26,
   "metadata": {},
   "outputs": [],
   "source": [
    "alltriplets = identified + non_identified\n",
    "\n",
    "cursor.executemany(\"\"\"INSERT INTO nomsfr VALUES (NULL, ?,?,?,?,? )\"\"\", alltriplets)\n",
    "\n",
    "db.commit()"
   ]
  },
  {
   "cell_type": "code",
   "execution_count": 27,
   "metadata": {},
   "outputs": [
    {
     "data": {
      "text/plain": [
       "[21, 'Zelkova', 'serrata', 'Green vase', 'Zelkova du Japon']"
      ]
     },
     "execution_count": 27,
     "metadata": {},
     "output_type": "execute_result"
    }
   ],
   "source": [
    "row"
   ]
  },
  {
   "cell_type": "code",
   "execution_count": null,
   "metadata": {
    "collapsed": true
   },
   "outputs": [],
   "source": [
    "# -: the end :-\n",
    "db.close()"
   ]
  },
  {
   "cell_type": "code",
   "execution_count": null,
   "metadata": {
    "collapsed": true
   },
   "outputs": [],
   "source": []
  }
 ],
 "metadata": {
  "kernelspec": {
   "display_name": "Python Virtual Env.",
   "language": "python",
   "name": "py3"
  },
  "language_info": {
   "codemirror_mode": {
    "name": "ipython",
    "version": 3
   },
   "file_extension": ".py",
   "mimetype": "text/x-python",
   "name": "python",
   "nbconvert_exporter": "python",
   "pygments_lexer": "ipython3",
   "version": "3.5.2"
  }
 },
 "nbformat": 4,
 "nbformat_minor": 2
}
