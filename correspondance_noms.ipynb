{
 "cells": [
  {
   "cell_type": "code",
   "execution_count": 1,
   "metadata": {
    "collapsed": true
   },
   "outputs": [],
   "source": [
    "import sqlite3\n",
    "import csv"
   ]
  },
  {
   "cell_type": "markdown",
   "metadata": {},
   "source": [
    "# Correspondance nom scientifique - nom commun"
   ]
  },
  {
   "cell_type": "code",
   "execution_count": 22,
   "metadata": {},
   "outputs": [
    {
     "name": "stdout",
     "output_type": "stream",
     "text": [
      "556\n"
     ]
    }
   ],
   "source": [
    "# Tableau de correspondance Nom latin, Nom commun :\n",
    "# from   http://www.lesarbres.fr/noms-des-arbres-latin-.html\n",
    "\n",
    "nomlatin_csv = 'data/nomlatin_lesarbresfr.csv'\n",
    "\n",
    "with open(nomlatin_csv, 'r') as f:\n",
    "    reader = csv.reader(f, delimiter=';')\n",
    "    \n",
    "    nomslatins = {}\n",
    "    for row in reader:\n",
    "        nomvernaculaire = row[0]\n",
    "            \n",
    "        # Remarque: il y a parfois plusieur nom latin proposé\n",
    "        all_latinname = [ n.strip() for n in  row[1].split(',') ]\n",
    "\n",
    "        for latinname in all_latinname:\n",
    "            nomslatins[latinname] = nomvernaculaire\n",
    "\n",
    "\n",
    "print(len(nomslatins))"
   ]
  },
  {
   "cell_type": "code",
   "execution_count": 23,
   "metadata": {
    "collapsed": true
   },
   "outputs": [],
   "source": [
    "# Lecture des triplets ( genre, espece, variete  ) :\n",
    "\n",
    "db_filename = 'data/arbres.db'\n",
    "db = sqlite3.connect(db_filename)\n",
    "\n",
    "\n",
    "cursor = db.cursor()\n",
    "\n",
    "cursor.execute(\"\"\"\n",
    "SELECT count(*) AS c, genre_bota, espece, variete FROM arbres\n",
    "GROUP BY genre_bota, espece, variete\n",
    "ORDER BY genre_bota\n",
    "             \"\"\")\n",
    "\n",
    "#nametuples = cursor.fetchmany(10)\n",
    "nametuples = cursor.fetchall()"
   ]
  },
  {
   "cell_type": "code",
   "execution_count": 24,
   "metadata": {},
   "outputs": [],
   "source": [
    "import unidecode"
   ]
  },
  {
   "cell_type": "code",
   "execution_count": 25,
   "metadata": {},
   "outputs": [],
   "source": [
    "def filterlist( text, liste, startswith=False ):\n",
    "    \"\"\" retourne une nouvelle liste ne comprenant que les élements (string)\n",
    "        dans lesquels est présent text (string)\n",
    "        \n",
    "        startswith=True : force 'text' à être present au début\n",
    "    \"\"\"\n",
    "    \n",
    "    if not text: return []\n",
    "    \n",
    "    # case insensitive\n",
    "    text = text.lower()\n",
    "    liste = [ m.lower() for m in liste ]\n",
    "    # no accent\n",
    "    text = unidecode.unidecode( text )\n",
    "    liste = [ unidecode.unidecode(m) for m in liste ]\n",
    "    \n",
    "    # specials rules  (by hand)\n",
    "    if text == 'thuja': text = 'thuya'\n",
    "    if text == 'sambuccus': text = 'sambucus'\n",
    "    if text == 'sambuccus': text = 'sambucus'\n",
    "    if text == 'cladastris': text = 'cladrastis'\n",
    "    if text == 'eleagnus': text = 'elaeagnus'\n",
    "    if text == 'pistacia': text = 'pistachia'\n",
    "         \n",
    "    # starts with  or  inside ?\n",
    "    if startswith:\n",
    "        crible = lambda A, B: B.startswith( A )\n",
    "    else:\n",
    "        crible = lambda A, B: A in B\n",
    "\n",
    "    \n",
    "    filtered_list = [ ele for ele in liste if crible( text, ele ) ]\n",
    "    return filtered_list"
   ]
  },
  {
   "cell_type": "code",
   "execution_count": 26,
   "metadata": {},
   "outputs": [],
   "source": [
    "def keep_only_commonpart( liste ):\n",
    "    \"\"\" ne garde que les lettres présentent dans tous les mots de la 'liste', en partant début\n",
    "    \"\"\"\n",
    "    \n",
    "    N = min( [len(mot) for mot in liste] )\n",
    "\n",
    "    common = []\n",
    "    for i in range(N):\n",
    "        if len( { mot[i] for mot in liste } ) == 1:\n",
    "            common.append( liste[0][i] )\n",
    "        else:\n",
    "            break\n",
    "\n",
    "    common = ''.join( common ).strip(' ')\n",
    "\n",
    "    return common"
   ]
  },
  {
   "cell_type": "raw",
   "metadata": {},
   "source": [
    "# test keep_only_commonpart\n",
    "filterlist( 'u', ['u', 'ui', 'dfqU', 'r'], startswith=True )"
   ]
  },
  {
   "cell_type": "code",
   "execution_count": 27,
   "metadata": {},
   "outputs": [],
   "source": [
    "def findmatch( triplet ):\n",
    "    \"\"\" pour un triplet (genre, espece, variete) cherche le nom scientifique de la liste\n",
    "        qui correspond le mieux\n",
    "        retourne Faux si non trouvé\n",
    "        retourne la partie commune si plusieurs possibilités\n",
    "    \"\"\"\n",
    "    \n",
    "    genre, espece, variete = triplet\n",
    "        \n",
    "    nomspossibles = list( nomslatins.keys() )\n",
    "    \n",
    "    # filter\n",
    "  \n",
    "    nomspossibles_G = filterlist( genre, nomspossibles, startswith=True )\n",
    "        \n",
    "    if len(nomspossibles_G) == 1 :\n",
    "        return nomspossibles_G[0]\n",
    "    elif len(nomspossibles_G) == 0 :\n",
    "        return False\n",
    "    else:\n",
    "        \n",
    "        nomspossibles_GE = filterlist( espece, nomspossibles_G )\n",
    "        \n",
    "        if len(nomspossibles_GE) ==  1:\n",
    "            return nomspossibles_GE[0]\n",
    "        elif len(nomspossibles_GE) == 0 :\n",
    "            match = keep_only_commonpart( nomspossibles_G )\n",
    "            if match : match += '*'\n",
    "            return match\n",
    "        \n",
    "        else:\n",
    "            \n",
    "            nomspossibles_GEV = filterlist( variete, nomspossibles_GE )\n",
    "            \n",
    "            if len(nomspossibles_GEV) ==  1:\n",
    "                return nomspossibles_GEV[0]\n",
    "            elif len(nomspossibles_GEV) == 0 :\n",
    "                match = keep_only_commonpart( nomspossibles_GE )\n",
    "                if match : match += '*'\n",
    "                return match\n",
    "            else:\n",
    "                match = keep_only_commonpart( nomspossibles_GEV )\n",
    "                if match : match += '*'\n",
    "                return match\n",
    "            "
   ]
  },
  {
   "cell_type": "code",
   "execution_count": 28,
   "metadata": {
    "scrolled": true
   },
   "outputs": [
    {
     "name": "stdout",
     "output_type": "stream",
     "text": [
      "525 triplet trouvés\n",
      "22 non trouvés\n",
      "547 au total\n"
     ]
    }
   ],
   "source": [
    "identified = []\n",
    "non_identified = []\n",
    "for row in nametuples:\n",
    "   \n",
    "    match = findmatch( row[1:] )\n",
    "    if match:\n",
    "        identified.append(( row, match ))\n",
    "    else:\n",
    "        non_identified.append( row )\n",
    "        \n",
    "print( len(identified), 'triplet trouvés' )\n",
    "print( len(non_identified), 'non trouvés' )\n",
    "print( len(nametuples), 'au total' )"
   ]
  },
  {
   "cell_type": "code",
   "execution_count": 29,
   "metadata": {
    "scrolled": false
   },
   "outputs": [
    {
     "name": "stdout",
     "output_type": "stream",
     "text": [
      "783 ~ ~ ~   https://www.google.fr/search?q=\n",
      " 77 Tetradium danielli ~   https://www.google.fr/search?q=Tetradium+danielli\n",
      " 22 Trachycarpus fortunei ~   https://www.google.fr/search?q=Trachycarpus+fortunei\n",
      "  9 Pteroceltis tatarinowii ~   https://www.google.fr/search?q=Pteroceltis+tatarinowii\n",
      "  7 Tetradium danielli Hupehensis   https://www.google.fr/search?q=Tetradium+danielli+Hupehensis\n",
      "  6 ~ kobus ~   https://www.google.fr/search?q=kobus\n",
      "  6 Pterostyrax hispida ~   https://www.google.fr/search?q=Pterostyrax+hispida\n",
      "  4 Chitalpa tashkentensis ~   https://www.google.fr/search?q=Chitalpa+tashkentensis\n",
      "  3 ~ fragmantissima ~   https://www.google.fr/search?q=fragmantissima\n",
      "  3 Clerodendron tricotonum ~   https://www.google.fr/search?q=Clerodendron+tricotonum\n",
      "  3 Euodia danielli ~   https://www.google.fr/search?q=Euodia+danielli\n",
      "  3 Fontanesia phillyreoides Fortunei   https://www.google.fr/search?q=Fontanesia+phillyreoides+Fortunei\n",
      "  2 Clerodendron ~ Fargesii   https://www.google.fr/search?q=Clerodendron+Fargesii\n",
      "  2 Hovenia dulcis ~   https://www.google.fr/search?q=Hovenia+dulcis\n",
      "  2 Pteroceltis tatarinowii Maxim   https://www.google.fr/search?q=Pteroceltis+tatarinowii+Maxim\n",
      "  1 Fontanesia phillyreoides ~   https://www.google.fr/search?q=Fontanesia+phillyreoides\n",
      "  1 Nerprun alaternus ~   https://www.google.fr/search?q=Nerprun+alaternus\n",
      "  1 Philodendron erubescens ~   https://www.google.fr/search?q=Philodendron+erubescens\n",
      "  1 Poncinos ~ ~   https://www.google.fr/search?q=Poncinos\n",
      "  1 Pteroceltis ~ Maxim   https://www.google.fr/search?q=Pteroceltis+Maxim\n",
      "  1 Sorbopyrus auricularis ~   https://www.google.fr/search?q=Sorbopyrus+auricularis\n",
      "  1 Tetradium tomentosa ~   https://www.google.fr/search?q=Tetradium+tomentosa\n"
     ]
    }
   ],
   "source": [
    "# trié par nombre d'arbres :\n",
    "non_identified_sorted = sorted( non_identified, key=lambda x:x[0], reverse=True )\n",
    "\n",
    "for noid in non_identified_sorted:\n",
    "    \n",
    "    googleit = 'https://www.google.fr/search?q=%s' % '+'.join( [ s for s in noid[1:] if s ] )\n",
    "    \n",
    "    noid = [ s if s else '~' for s in noid ]\n",
    "    print( '{:>3} {} {} {}   {}'.format( *noid,  googleit) )"
   ]
  },
  {
   "cell_type": "code",
   "execution_count": null,
   "metadata": {
    "collapsed": true
   },
   "outputs": [],
   "source": []
  },
  {
   "cell_type": "code",
   "execution_count": 10,
   "metadata": {
    "collapsed": true
   },
   "outputs": [],
   "source": [
    "# -: the end :-\n",
    "db.close()"
   ]
  },
  {
   "cell_type": "code",
   "execution_count": null,
   "metadata": {
    "collapsed": true
   },
   "outputs": [],
   "source": []
  }
 ],
 "metadata": {
  "kernelspec": {
   "display_name": "Python Virtual Env.",
   "language": "python",
   "name": "py3"
  },
  "language_info": {
   "codemirror_mode": {
    "name": "ipython",
    "version": 3
   },
   "file_extension": ".py",
   "mimetype": "text/x-python",
   "name": "python",
   "nbconvert_exporter": "python",
   "pygments_lexer": "ipython3",
   "version": "3.5.2"
  }
 },
 "nbformat": 4,
 "nbformat_minor": 2
}
