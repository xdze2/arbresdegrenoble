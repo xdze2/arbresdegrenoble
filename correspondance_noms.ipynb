{
 "cells": [
  {
   "cell_type": "code",
   "execution_count": 1,
   "metadata": {
    "collapsed": true
   },
   "outputs": [],
   "source": [
    "import sqlite3\n",
    "import csv"
   ]
  },
  {
   "cell_type": "markdown",
   "metadata": {},
   "source": [
    "# Correspondance nom scientifique - nom commun"
   ]
  },
  {
   "cell_type": "code",
   "execution_count": 2,
   "metadata": {},
   "outputs": [
    {
     "name": "stdout",
     "output_type": "stream",
     "text": [
      "556\n"
     ]
    }
   ],
   "source": [
    "# Tableau de correspondance Nom latin, Nom commun :\n",
    "nomlatin_csv = 'data/nomlatin_lesarbresfr.csv'\n",
    "\n",
    "with open(nomlatin_csv, 'r') as f:\n",
    "    reader = csv.reader(f, delimiter=';')\n",
    "    \n",
    "    nomslatins = {}\n",
    "    for row in reader:\n",
    "        nomvernaculaire = row[0]\n",
    "            \n",
    "        # Remarque: il y a parfois plusieur nom latin proposé\n",
    "        all_latinname = [ n.strip() for n in  row[1].split(',') ]\n",
    "\n",
    "        for latinname in all_latinname:\n",
    "            nomslatins[latinname] = nomvernaculaire\n",
    "\n",
    "\n",
    "print(len(nomslatins))"
   ]
  },
  {
   "cell_type": "code",
   "execution_count": 3,
   "metadata": {
    "collapsed": true
   },
   "outputs": [],
   "source": [
    "# Lecture des triplets ( genre, espece, variete  ) :\n",
    "\n",
    "db_filename = 'data/arbres.db'\n",
    "db = sqlite3.connect(db_filename)\n",
    "\n",
    "\n",
    "cursor = db.cursor()\n",
    "\n",
    "cursor.execute(\"\"\"\n",
    "SELECT count(*) AS c, genre_bota, espece, variete FROM arbres\n",
    "GROUP BY genre_bota, espece, variete\n",
    "ORDER BY genre_bota\n",
    "             \"\"\")\n",
    "\n",
    "#nametuples = cursor.fetchmany(10)\n",
    "nametuples = cursor.fetchall()"
   ]
  },
  {
   "cell_type": "code",
   "execution_count": 4,
   "metadata": {},
   "outputs": [],
   "source": [
    "import unidecode"
   ]
  },
  {
   "cell_type": "code",
   "execution_count": 5,
   "metadata": {},
   "outputs": [],
   "source": [
    "def filterlist( text, liste, startswith=False ):\n",
    "    \"\"\" retourne une nouvelle liste ne comprenant que les élements (string)\n",
    "        dans lesquels est présent text (string)\n",
    "        \n",
    "        startswith=True : force 'text' à être present au début\n",
    "    \"\"\"\n",
    "    \n",
    "    if not text: return []\n",
    "    \n",
    "    # case insensitive\n",
    "    text = text.lower()\n",
    "    liste = [ m.lower() for m in liste ]\n",
    "    # no accent\n",
    "    text = unidecode.unidecode( text )\n",
    "    liste = [ unidecode.unidecode(m) for m in liste ]\n",
    "    \n",
    "    # specials rules  (by hand)\n",
    "    if text == 'thuja': text = 'thuya'\n",
    "    if text == 'sambuccus': text = 'sambucus'\n",
    "    if text == 'sambuccus': text = 'sambucus'\n",
    "    if text == 'cladastris': text = 'cladrastis'\n",
    "    if text == 'eleagnus': text = 'elaeagnus'\n",
    "    if text == 'pistacia': text = 'pistachia'\n",
    "         \n",
    "    # starts with  or  inside ?\n",
    "    if startswith:\n",
    "        crible = lambda A, B: B.startswith( A )\n",
    "    else:\n",
    "        crible = lambda A, B: A in B\n",
    "\n",
    "    \n",
    "    filtered_list = [ ele for ele in liste if crible( text, ele ) ]\n",
    "    return filtered_list"
   ]
  },
  {
   "cell_type": "code",
   "execution_count": 6,
   "metadata": {},
   "outputs": [],
   "source": [
    "def keep_only_commonpart( liste ):\n",
    "    \"\"\" ne garde que les lettres présentent dans tous les mots de la 'liste', en partant début\n",
    "    \"\"\"\n",
    "    \n",
    "    N = min( [len(mot) for mot in liste] )\n",
    "\n",
    "    common = []\n",
    "    for i in range(N):\n",
    "        if len( { mot[i] for mot in liste } ) == 1:\n",
    "            common.append( liste[0][i] )\n",
    "        else:\n",
    "            break\n",
    "\n",
    "    common = ''.join( common ).strip(' ')\n",
    "\n",
    "    return common"
   ]
  },
  {
   "cell_type": "raw",
   "metadata": {},
   "source": [
    "# test keep_only_commonpart\n",
    "filterlist( 'u', ['u', 'ui', 'dfqU', 'r'], startswith=True )"
   ]
  },
  {
   "cell_type": "code",
   "execution_count": 7,
   "metadata": {},
   "outputs": [],
   "source": [
    "def findmatch( triplet ):\n",
    "    \"\"\" pour un triplet (genre, espece, variete) cherche le nom scientifique de la liste\n",
    "        qui correspond le mieux\n",
    "        retourne Faux si non trouvé\n",
    "        retourne la partie commune si plusieurs possibilités\n",
    "    \"\"\"\n",
    "    \n",
    "    genre, espece, variete = triplet\n",
    "        \n",
    "    nomspossibles = list( nomslatins.keys() )\n",
    "    \n",
    "    # filter\n",
    "  \n",
    "    nomspossibles_G = filterlist( genre, nomspossibles, startswith=True )\n",
    "        \n",
    "    if len(nomspossibles_G) == 1 :\n",
    "        return nomspossibles_G[0]\n",
    "    elif len(nomspossibles_G) == 0 :\n",
    "        return False\n",
    "    else:\n",
    "        \n",
    "        nomspossibles_GE = filterlist( espece, nomspossibles_G )\n",
    "        \n",
    "        if len(nomspossibles_GE) ==  1:\n",
    "            return nomspossibles_GE[0]\n",
    "        elif len(nomspossibles_GE) == 0 :\n",
    "            match = keep_only_commonpart( nomspossibles_G )\n",
    "            if match : match += '*'\n",
    "            return match\n",
    "        \n",
    "        else:\n",
    "            \n",
    "            nomspossibles_GEV = filterlist( variete, nomspossibles_GE )\n",
    "            \n",
    "            if len(nomspossibles_GEV) ==  1:\n",
    "                return nomspossibles_GEV[0]\n",
    "            elif len(nomspossibles_GEV) == 0 :\n",
    "                match = keep_only_commonpart( nomspossibles_GE )\n",
    "                if match : match += '*'\n",
    "                return match\n",
    "            else:\n",
    "                match = keep_only_commonpart( nomspossibles_GEV )\n",
    "                if match : match += '*'\n",
    "                return match\n",
    "            "
   ]
  },
  {
   "cell_type": "code",
   "execution_count": 8,
   "metadata": {
    "scrolled": true
   },
   "outputs": [
    {
     "name": "stdout",
     "output_type": "stream",
     "text": [
      "525 triplet trouvés\n",
      "22 non trouvés\n",
      "547 au total\n"
     ]
    }
   ],
   "source": [
    "identified = []\n",
    "non_identified = []\n",
    "for row in nametuples:\n",
    "   \n",
    "    match = findmatch( row[1:] )\n",
    "    if match:\n",
    "        identified.append(( row, match ))\n",
    "    else:\n",
    "        non_identified.append( row )\n",
    "        \n",
    "print( len(identified), 'triplet trouvés' )\n",
    "print( len(non_identified), 'non trouvés' )\n",
    "print( len(nametuples), 'au total' )"
   ]
  },
  {
   "cell_type": "code",
   "execution_count": 9,
   "metadata": {
    "scrolled": true
   },
   "outputs": [
    {
     "data": {
      "text/plain": [
       "[(783, None, None, None),\n",
       " (77, 'Tetradium', 'danielli', None),\n",
       " (22, 'Trachycarpus', 'fortunei', None),\n",
       " (9, 'Pteroceltis', 'tatarinowii', None),\n",
       " (7, 'Tetradium', 'danielli', 'Hupehensis'),\n",
       " (6, None, 'kobus', None),\n",
       " (6, 'Pterostyrax', 'hispida', None),\n",
       " (4, 'Chitalpa', 'tashkentensis', None),\n",
       " (3, None, 'fragmantissima', None),\n",
       " (3, 'Clerodendron', 'tricotonum', None),\n",
       " (3, 'Euodia', 'danielli', None),\n",
       " (3, 'Fontanesia', 'phillyreoides', 'Fortunei'),\n",
       " (2, 'Clerodendron', None, 'Fargesii'),\n",
       " (2, 'Hovenia', 'dulcis', None),\n",
       " (2, 'Pteroceltis', 'tatarinowii', 'Maxim'),\n",
       " (1, 'Fontanesia', 'phillyreoides', None),\n",
       " (1, 'Nerprun', 'alaternus', None),\n",
       " (1, 'Philodendron', 'erubescens', None),\n",
       " (1, 'Poncinos', None, None),\n",
       " (1, 'Pteroceltis', None, 'Maxim'),\n",
       " (1, 'Sorbopyrus', 'auricularis', None),\n",
       " (1, 'Tetradium', 'tomentosa', None)]"
      ]
     },
     "execution_count": 9,
     "metadata": {},
     "output_type": "execute_result"
    }
   ],
   "source": [
    "# trié par nombre d'arbres :\n",
    "sorted( non_identified, key=lambda x:x[0], reverse=True )"
   ]
  },
  {
   "cell_type": "code",
   "execution_count": null,
   "metadata": {
    "collapsed": true
   },
   "outputs": [],
   "source": []
  },
  {
   "cell_type": "code",
   "execution_count": null,
   "metadata": {
    "collapsed": true
   },
   "outputs": [],
   "source": []
  },
  {
   "cell_type": "code",
   "execution_count": 10,
   "metadata": {
    "collapsed": true
   },
   "outputs": [],
   "source": [
    "# -: the end :-\n",
    "db.close()"
   ]
  },
  {
   "cell_type": "code",
   "execution_count": null,
   "metadata": {
    "collapsed": true
   },
   "outputs": [],
   "source": []
  }
 ],
 "metadata": {
  "kernelspec": {
   "display_name": "Python Virtual Env.",
   "language": "python",
   "name": "py3"
  },
  "language_info": {
   "codemirror_mode": {
    "name": "ipython",
    "version": 3
   },
   "file_extension": ".py",
   "mimetype": "text/x-python",
   "name": "python",
   "nbconvert_exporter": "python",
   "pygments_lexer": "ipython3",
   "version": "3.5.2"
  }
 },
 "nbformat": 4,
 "nbformat_minor": 2
}
