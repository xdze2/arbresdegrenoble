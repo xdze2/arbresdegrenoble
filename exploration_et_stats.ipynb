{
 "cells": [
  {
   "cell_type": "code",
   "execution_count": 9,
   "metadata": {
    "collapsed": true
   },
   "outputs": [],
   "source": [
    "import json"
   ]
  },
  {
   "cell_type": "markdown",
   "metadata": {},
   "source": [
    "# Exploration des données"
   ]
  },
  {
   "cell_type": "code",
   "execution_count": 10,
   "metadata": {
    "collapsed": true
   },
   "outputs": [],
   "source": [
    "filename = 'data/ARBRES_TERRITOIRE_VDG_EPSG4326.json'"
   ]
  },
  {
   "cell_type": "code",
   "execution_count": 11,
   "metadata": {
    "collapsed": true
   },
   "outputs": [],
   "source": [
    "data = json.load(open( filename ))"
   ]
  },
  {
   "cell_type": "code",
   "execution_count": 12,
   "metadata": {},
   "outputs": [
    {
     "name": "stdout",
     "output_type": "stream",
     "text": [
      "30913 arbres\n"
     ]
    }
   ],
   "source": [
    "data = data['features']\n",
    "\n",
    "print('%i arbres' % len(data))"
   ]
  },
  {
   "cell_type": "code",
   "execution_count": 13,
   "metadata": {},
   "outputs": [
    {
     "data": {
      "text/plain": [
       "dict_keys(['geometry', 'properties', 'type'])"
      ]
     },
     "execution_count": 13,
     "metadata": {},
     "output_type": "execute_result"
    }
   ],
   "source": [
    "data[0].keys()"
   ]
  },
  {
   "cell_type": "code",
   "execution_count": 14,
   "metadata": {},
   "outputs": [
    {
     "data": {
      "text/plain": [
       "'Feature'"
      ]
     },
     "execution_count": 14,
     "metadata": {},
     "output_type": "execute_result"
    }
   ],
   "source": [
    "data[0]['type']"
   ]
  },
  {
   "cell_type": "code",
   "execution_count": 16,
   "metadata": {},
   "outputs": [
    {
     "data": {
      "text/plain": [
       "{'coordinates': [5.73796476507239, 45.1651537744035], 'type': 'Point'}"
      ]
     },
     "execution_count": 16,
     "metadata": {},
     "output_type": "execute_result"
    }
   ],
   "source": [
    "data[0]['geometry']"
   ]
  },
  {
   "cell_type": "markdown",
   "metadata": {},
   "source": [
    "## Propriétés"
   ]
  },
  {
   "cell_type": "code",
   "execution_count": 17,
   "metadata": {},
   "outputs": [
    {
     "name": "stdout",
     "output_type": "stream",
     "text": [
      "['SOUS_CATEGORIE', 'TYPEIMPLANTATIONPLU', 'NOM', 'STADEDEDEVELOPPEMENT', 'CODE_PARENT_DESC', 'BIEN_REFERENCE', 'GENRE', 'IDENTIFIANTPLU', 'ELEM_POINT_ID', 'ANNEEDEPLANTATION', 'RAISONDEPLANTATION', 'DIAMETREARBRE', 'CODE', 'VARIETE', 'ESPECE', 'CATEGORIE', 'EQUIPE', 'CODE_PARENT', 'INTITULEPROTECTIONPLU', 'CAUSEABATTAGE', 'COLLECTIVITE', 'SOUS_CATEGORIE_DESC', 'CATEGORIE_DESC', 'GENRE_DESC', 'ESSOUCHEMENT', 'ANNEEABATTAGE', 'ADR_SECTEUR', 'GENRE_BOTA', 'REMARQUES', 'TRAITEMENTCHENILLES', 'COURRIER']\n"
     ]
    }
   ],
   "source": [
    "allprop = list( data[0]['properties'].keys() )\n",
    "print( allprop )"
   ]
  },
  {
   "cell_type": "code",
   "execution_count": 18,
   "metadata": {
    "collapsed": true
   },
   "outputs": [],
   "source": [
    "def add_one( dico, key ):\n",
    "    if key in dico:\n",
    "        dico[key] +=1\n",
    "    else:\n",
    "        dico[key] = 1"
   ]
  },
  {
   "cell_type": "code",
   "execution_count": 19,
   "metadata": {},
   "outputs": [
    {
     "name": "stdout",
     "output_type": "stream",
     "text": [
      "147\n"
     ]
    }
   ],
   "source": [
    "def count_for_a_key( data, key ):\n",
    "\n",
    "    dicocount = {}\n",
    "\n",
    "    for arbre in data:    \n",
    "        add_one( dicocount, arbre['properties'][key] )\n",
    "        \n",
    "    return dicocount\n",
    "    \n",
    "key = 'GENRE_BOTA'\n",
    "key = 'VARIETE'\n",
    "\n",
    "dicocount = count_for_a_key( data, key  )\n",
    "print(len(dicocount))\n",
    "#print( sorted( dicocount.items(), key=lambda x:x[1], reverse=True ) )"
   ]
  },
  {
   "cell_type": "code",
   "execution_count": 20,
   "metadata": {},
   "outputs": [
    {
     "name": "stdout",
     "output_type": "stream",
     "text": [
      "31\n"
     ]
    }
   ],
   "source": [
    "countall = {}\n",
    "for prop in allprop:\n",
    "    countall[prop] =  count_for_a_key( data, prop )\n",
    "    \n",
    "print(len(countall))"
   ]
  },
  {
   "cell_type": "code",
   "execution_count": 21,
   "metadata": {},
   "outputs": [
    {
     "name": "stdout",
     "output_type": "stream",
     "text": [
      "          BIEN_REFERENCE  30913  AR13789 (1), AR4296 (1), AR25522 (1), AR29136 (1), AR32724 (1)...\n",
      "                    CODE  30913  ESP31497 (1), ESP3984 (1), ESP13520 (1), ESP5315 (1), ESP17765 (1)...\n",
      "                     NOM  30913  ESP31497 (1), ESP3984 (1), ESP13520 (1), ESP5315 (1), ESP17765 (1)...\n",
      "           ELEM_POINT_ID  30913  1 (1), 2 (1), 3 (1), 4 (1), 5 (1)...\n",
      "        CODE_PARENT_DESC   1445  Prc Echangeurs Bastion St Roch (396), Le Bastion zone boisée (339), Cimetière St Roch (304), Grande pelouse butte des pins (262), Prc Echangeurs Valmy Gallieni (261)...\n",
      "             CODE_PARENT   1445  ESP995 (396), ESP31821 (339), ESP495 (304), ESP761 (262), ESP720 (261)...\n",
      "                  ESPECE    264  acerifolia (4439), None (3896), nigra (1929), pseudoplatanus (1349), betulus (1162)...\n",
      "                 VARIETE    147  None (26865), Austriaca (1249), Chanticleer (340), Wierii (340), Italica (283)...\n",
      "              GENRE_BOTA    114  Acer (5174), Platanus (4609), Pinus (2119), Tilia (1762), Fraxinus (1448)...\n",
      "       ANNEEDEPLANTATION     58  1975 (3923), 2001 (1632), 1980 (1502), 1970 (1357), None (1104)...\n",
      "          IDENTIFIANTPLU     50  None (30297), 70 (206), 070 (117), 130 (57), 37 (31)...\n",
      "             ADR_SECTEUR      6  6 (6996), 5 (6628), 2 (5935), 3 (4603), 4 (3796)...\n",
      "     TYPEIMPLANTATIONPLU      5  None (30297), Alignement (475), Groupé (112), Isolé (25), Périmètre (4)\n",
      "          SOUS_CATEGORIE      4  ESP174 (15941), ESP151 (11776), ESP065 (2122), ESP187 (1074)\n",
      "    STADEDEDEVELOPPEMENT      4  Arbre adulte (24005), Arbre jeune (5175), None (1547), Arbre vieillissant (186)\n",
      "     SOUS_CATEGORIE_DESC      4  Arbre d'espaces ouverts (15941), Arbre de voirie (11776), Arbre d'enceintes fermées (2122), Bois semi naturel (1074)\n",
      "      RAISONDEPLANTATION      4  None (29859), Nouveau (958), Remplacement (94), Existant (2)\n",
      "   INTITULEPROTECTIONPLU      4  None (30297), L 123-1.7 (450), ebc (145), L 123-1 (21)\n",
      "     TRAITEMENTCHENILLES      4  None (28568), Haute (1216), Moyenne (988), Basse (141)\n",
      "            COLLECTIVITE      3  Ville de Grenoble (15457), Grenoble Alpes Métropole (14782), None (674)\n",
      "                   GENRE      1  VEG (30913)\n",
      "               REMARQUES      1  None (30913)\n",
      "           DIAMETREARBRE      1  None (30913)\n",
      "               CATEGORIE      1  ESP01 (30913)\n",
      "                  EQUIPE      1  None (30913)\n",
      "           CAUSEABATTAGE      1  None (30913)\n",
      "          CATEGORIE_DESC      1  Arbre (30913)\n",
      "              GENRE_DESC      1  VEGETATION (30913)\n",
      "            ESSOUCHEMENT      1  None (30913)\n",
      "           ANNEEABATTAGE      1  None (30913)\n",
      "                COURRIER      1  None (30913)\n"
     ]
    }
   ],
   "source": [
    "\n",
    "sortedcountall = sorted( countall.items(), key= lambda x : len(x[1]), reverse=True )\n",
    "for prop, values in sortedcountall:\n",
    "        \n",
    "    sortvalues = sorted( values.items(), key=lambda x:x[1], reverse=True )\n",
    "    str_values = ', '.join( [ '%s (%i)'%(name, count) for name, count in sortvalues[:5] ] )\n",
    "    str_values += '...' if len(values)>5 else ''\n",
    "    print( \"{:>24}  {:>5}  {}\".format( prop , len(values), str_values  ) )\n",
    "    "
   ]
  },
  {
   "cell_type": "markdown",
   "metadata": {},
   "source": [
    "On voit tout de suite les propriétés non utilisées et vides, et celles importantes. "
   ]
  },
  {
   "cell_type": "code",
   "execution_count": 22,
   "metadata": {},
   "outputs": [
    {
     "name": "stdout",
     "output_type": "stream",
     "text": [
      "[('SOUS_CATEGORIE', 4), ('TYPEIMPLANTATIONPLU', 5), ('ADR_SECTEUR', 6), ('STADEDEDEVELOPPEMENT', 4), ('CODE_PARENT_DESC', 1445), ('BIEN_REFERENCE', 30913), ('GENRE', 1), ('IDENTIFIANTPLU', 50), ('SOUS_CATEGORIE_DESC', 4), ('REMARQUES', 1), ('ANNEEDEPLANTATION', 58), ('RAISONDEPLANTATION', 4), ('DIAMETREARBRE', 1), ('CODE', 30913), ('VARIETE', 147), ('ESPECE', 264), ('CATEGORIE', 1), ('EQUIPE', 1), ('CODE_PARENT', 1445), ('INTITULEPROTECTIONPLU', 4), ('CAUSEABATTAGE', 1), ('COLLECTIVITE', 3), ('CATEGORIE_DESC', 1), ('GENRE_DESC', 1), ('ESSOUCHEMENT', 1), ('ANNEEABATTAGE', 1), ('NOM', 30913), ('GENRE_BOTA', 114), ('ELEM_POINT_ID', 30913), ('TRAITEMENTCHENILLES', 4), ('COURRIER', 1)]\n"
     ]
    }
   ],
   "source": [
    "countall_stats = [ (k, len(v)) for k,v in countall.items() ]\n",
    "print( countall_stats )\n"
   ]
  },
  {
   "cell_type": "code",
   "execution_count": 23,
   "metadata": {},
   "outputs": [
    {
     "data": {
      "text/plain": [
       "{None: 30913}"
      ]
     },
     "execution_count": 23,
     "metadata": {},
     "output_type": "execute_result"
    }
   ],
   "source": [
    "countall['ANNEEABATTAGE']"
   ]
  },
  {
   "cell_type": "code",
   "execution_count": 25,
   "metadata": {
    "collapsed": true
   },
   "outputs": [],
   "source": [
    "## correspondance Code parent et Description"
   ]
  },
  {
   "cell_type": "code",
   "execution_count": 26,
   "metadata": {
    "collapsed": true
   },
   "outputs": [],
   "source": [
    "code_parents = {}"
   ]
  },
  {
   "cell_type": "code",
   "execution_count": 27,
   "metadata": {},
   "outputs": [],
   "source": [
    "for arbre in data:\n",
    "    code_parents[ arbre['properties']['CODE_PARENT'] ] = arbre['properties']['CODE_PARENT_DESC']"
   ]
  },
  {
   "cell_type": "code",
   "execution_count": 32,
   "metadata": {},
   "outputs": [
    {
     "name": "stdout",
     "output_type": "stream",
     "text": [
      "['ESP547 : R des Peupliers', 'ESP844 : Prc Mis Mail bds Est t Perret', 'ESP545 : R Pupin des Ecrins au tunnel', \"ESP744 : Chem d'Isly ang R Moyrand\", 'ESP86 : R J Bart pair', 'ESP1119 : R A Vigny Staling Romantiques', 'ESP57 : Bd Vallier R Danube Libé ', 'ESP707 : R Esmonin  Reynoard à Pupin ', 'ESP514 : Cargo Est allée entre bâtiment', 'ESP399 : R Col Driant Pltte dev école', 'ESP105 : Ecole prim Vallier R Greffier', 'ESP847 : Prc Mis massif Nord médaillon', 'ESP193 : R Sémard dev éc commerce', 'ESP562 : Av Reynoard Musset LBruyère', 'ESP517 : Ch Alpins ang Lieut Chabal', 'ESP1095 : Ave du Grand Serre impair', \"ESP718 : Bd Clémenceau Valmy  J d'arc\", 'ESP85 : R Col Driant cote Parc', 'ESP126 : R E Zola ang Berthelot park', 'ESP31418 : EHPAD Delphinelle Teisseire', 'ESP354 : Ec mat J Verne 15 R Hoche', 'ESP456 : R Stalingrad pair ang Vigny', 'ESP1156 : Foyer pers âgées R P Duclot', 'ESP656 : Ec prim Elisée Chatin', 'ESP100 : Arrèt tram La Bruyère Pl ouest', 'ESP286 : Jard des Dauphins le mûrier', 'ESP542 : Allée des Deux Mondes pair', 'ESP28 : R Alliés dev POINT P', 'ESP1275 : Pl St Bruno Voirie', 'ESP840 : Cité Mistral la prairie']\n"
     ]
    }
   ],
   "source": [
    "print( [ ' : '.join( code_name ) for code_name in code_parents.items() ][:30] )"
   ]
  },
  {
   "cell_type": "code",
   "execution_count": 41,
   "metadata": {},
   "outputs": [
    {
     "name": "stdout",
     "output_type": "stream",
     "text": [
      "295\n",
      "[(('Acer', None), 4622), (('Platanus', None), 4527), (('Tilia', None), 1760), (('Betula', None), 1253), (('Pinus', 'Austriaca'), 1239), (('Carpinus', None), 1151), (('Fraxinus', None), 1088), (('Pinus', None), 879), (('Alnus', None), 808), ((None, None), 792), (('Liquidambar', None), 778), (('Prunus', None), 698), (('Populus', None), 673), (('Quercus', None), 530), (('Liriodendron', None), 505), (('Aesculus', None), 427), (('Sophora', None), 418), (('Magnolia', None), 393), (('Chamaecyparis', None), 358), (('Cercis', None), 346), (('Acer', 'Wierii'), 339), (('Pyrus', 'Chanticleer'), 336), (('Cedrus', None), 306), (('Populus', 'Italica'), 281), (('Robinia', None), 276), (('Koelreuteria', None), 269), (('Picea', None), 238), (('Fagus', None), 207), (('Gleditsia', None), 206), (('Taxus', None), 201), (('Ulmus', None), 200), (('Malus', None), 186), (('Celtis', None), 183), (('Carpinus', 'Pyramidalis'), 176), (('Fraxinus', 'Raywood'), 166), (('Fraxinus', 'Flame'), 166), (('Corylus', None), 162), (('Zelkova', None), 152), (('Cupressus', None), 149), (('Salix', None), 118), (('Ginkgo', None), 110), (('Paulownia', None), 101), (('Cupressocyparis', None), 100), (('Prunus', 'Atropurpurea'), 99), (('Pyrus', None), 98), (('Amélanchier', None), 90), (('Gleditsia', 'Inermis'), 89), (('Crataegus', None), 89), (('Catalpa', None), 87), (('Metasequoia', None), 81), (('Ailanthus', None), 80), (('Platanus', 'Vallis clausa'), 79), (('Tetradium', None), 78), (('Morus', None), 78), (('Prunus', 'Plena'), 77), (('Quercus', 'Columnaris'), 74), (('Albizia', None), 72), (('Sorbus', None), 72), (('Acer', 'Negenia'), 68), (('Cedrus', 'Glauca'), 68), (('Zelkova', 'Green vase'), 63), (('Juglans', None), 59), (('Thuja', None), 48), (('Parrotia', None), 47), (('Libocedrus', None), 46), (('Pterocarya', None), 46), (('Cedrela', None), 46), (('Cladastris', None), 45), (('Ostrya', None), 42), (('Acer', 'Rubrum'), 38), (('Cupressus', 'Glauca'), 33), (('Acer', 'Schwedleri nigra'), 33), (('Chionanthus', None), 32), (('Sambuccus', None), 31), (('Lagerstroemia', None), 30), (('Aesculus', 'Baumanii'), 25), (('Abies', None), 25), (('Ilex', None), 24), (('Liquidambar', 'Worplesdon'), 24), (('Gleditsia', 'Inermis skyline'), 24), (('Broussonetia', None), 23), (('Trachycarpus', None), 22), (('Eleagnus', None), 19), (('Fagus', 'Purpurea'), 18), (('Morus', 'Fruitless'), 18), (('Ficus', None), 17), (('Buxus', None), 17), (('Cupressus', 'Stricta'), 17), (('Pyrus', 'Capital'), 17), (('Cornus', None), 15), (('Acer', 'Celsam'), 15), (('Syringa', None), 15), (('Chamaecyparis', 'Allumi'), 13), (('Fraxinus', 'Mancana'), 13), (('Prunus', 'Shidare yoshino'), 12), (('Sequoia', None), 12), (('Phellodendron', None), 12), (('Diospyros', None), 11), (('Cotinus', None), 11), (('Pyrus', 'Eleagnifolia'), 11), (('Fagus', 'Fastigiata'), 11), (('Acer', 'Autumn blaze'), 11), (('Fagus', 'Pendula'), 10), (('Photinia', None), 10), (('Acer', 'Purpurascens'), 10), (('Salix', 'Tristis'), 10), (('Pteroceltis', None), 9), (('Taxodium', None), 9), (('Picea', 'Kausteriana glauca'), 9), (('Malus', 'Street parade'), 9), (('Quercus', 'Fastigiata'), 9), (('Gymnocladus', None), 9), (('Prunus', 'Sunset boulevard'), 8), (('Laburnum', None), 8), (('Acer', 'Aureum'), 8), (('Cydonia', None), 8), (('Prunus', 'Kansan'), 8), (('Acer', 'Cleveland'), 8), (('Lagerstroemia', 'Yang'), 8), (('Rhus', None), 7), (('Pistacia', None), 7), (('Halesia', None), 7), (('Cercidiphyllum', None), 7), (('Tetradium', 'Hupehensis'), 7), (('Davidia', None), 7), (('Aesculus', 'Briotti'), 7), (('Fagus', 'Dawyck gold'), 7), (('Malus', 'Hornett'), 6), (('Malus', 'Everesta'), 6), (('Ulmus', 'Sapporo autumn gold'), 6), (('Alnus', 'Imperialis'), 6), (('Robinia', 'Fastigiata'), 6), (('Betula', 'Jacquemontïi'), 6), (('Fagus', 'Fast gold'), 6), (('Pterostyrax', None), 6), (('Prunus', 'Autumnalis'), 6), (('Quercus', 'Greenspire'), 6), (('Malus', 'Perpetu'), 6), (('Cornus', 'Chirokee chief'), 5), (('Mespilus', None), 5), (('Acer', 'Variegata'), 5), (('Maclura', None), 5), (('Larix', None), 5), (('Prunus', 'Bigarreau burlat'), 5), (('Olea', None), 5), (('Ligustrum', None), 5), (('Salix', 'Calva'), 5), (('Prunus', 'Mirabelle de Nancy'), 5), (('Salix', 'Nana'), 5), (('Malus', 'Reinette grise Du canada'), 5), (('Fraxinus', 'Jaspidea'), 5), (('Calocedrus', None), 4), (('Acer', 'Eurostar'), 4), (('Chitalpa', None), 4), (('Malus', 'Pyramidalis'), 4), (('Malus', 'Granny smith'), 4), (('Juniperus', None), 4), (('Prunus', 'Pandora'), 3), (('Eriobotrya ', None), 3), (('Fagus', 'Asplenifolia'), 3), (('Chimonanthus', None), 3), (('Ptelea', None), 3), (('Cupressus', 'Fastigiata'), 3), (('Styrax', None), 3), (('Crataegus', 'Carrieri'), 3), (('Acer', 'Elsrike'), 3), (('Cercis', 'Austriaca'), 3), (('Fagus', 'Purpurea pendula'), 3), (('Euodia', None), 3), (('Pteroceltis', 'Maxim'), 3), (('Clerodendron', None), 3), (('Pyrus', 'Doyenne du comice'), 3), (('Fraxinus', 'Pendula'), 3), (('Phillyrea', None), 3), (('Fontanesia', 'Fortunei'), 3), (('Acer', 'Hersii'), 3), (('Cephalotaxus', None), 3), (('Prunus', 'Reine claude'), 3), (('Magnolia', 'Tulipe'), 3), (('Pyrus', 'Beurre Hardy'), 2), (('Prunus', \"Quetsche d'Alsace\"), 2), (('Koelreuteria', 'Fastigiata'), 2), (('Malus', 'Reine des reinettes'), 2), (('Morus', 'Pendula'), 2), (('Fraxinus', 'Westhoff glorie'), 2), (('Betula', 'Austriaca'), 2), (('Hovenia', None), 2), (('Prunus', \"Reine Claude d'Althan\"), 2), (('Malus', 'Belle de Pontoise'), 2), (('Betula', 'Atropurpurea'), 2), (('Prunus', 'Caucasica'), 2), (('Fraxinus', 'Mecsek'), 2), (('Punica', 'Legrelliae'), 2), (('Ostrya', 'Chanticleer'), 2), (('Araucaria', None), 2), (('Prunus', 'Pink Giant'), 2), (('Crataegus', \"Paul's scarlet\"), 2), (('Cydonia', 'Chanticleer'), 2), (('Clerodendron', 'Fargesii'), 2), (('Abies', 'Glauca'), 2), (('Picea', 'Karst'), 2), (('Malus', 'Jonagold'), 2), (('Cryptomeria', None), 2), (('Carpinus', 'Orientalis'), 2), (('Platanus', 'Minaret'), 2), (('Sequoiadendron', None), 2), (('Malus', 'Evelyn'), 1), (('Pyrus', 'Clapp Favorite'), 1), (('Prunus', 'Cul de Poulet'), 1), (('Sterculia', None), 1), (('Pyrus', 'Précoce de Trévoux'), 1), (('Cydonia', 'Provence'), 1), (('Malus', 'Amsden'), 1), (('Punica', None), 1), (('Populus', 'Shidare yoshino'), 1), (('Picea', 'Austriaca'), 1), (('Prunus', 'Sanguine de Savoie'), 1), (('Picea', 'Engelm'), 1), (('Fraxinus', 'Altena'), 1), (('Quercus', 'Carruth'), 1), (('Prunus', 'Amanogawa'), 1), (('Acer', 'Austriaca'), 1), (('Populus', 'Planteriensis'), 1), (('Prunus', 'Wierii'), 1), (('Staphylea', None), 1), (('Sophora', 'Pubescens'), 1), (('Pyrus', 'Claude Blanchet'), 1), (('Malus', 'Nationale'), 1), (('Acer', 'Fastigiata'), 1), (('Malus', 'Astrakan'), 1), (('Fontanesia', None), 1), (('Quercus', 'Pedonculata'), 1), (('Robinia', 'Frisia'), 1), (('Prunus', 'Shirotae'), 1), (('Platanus', 'Austriaca'), 1), (('Philodendron', None), 1), (('Morus', 'Laciniata'), 1), (('Aesculus', 'Waltea'), 1), (('Acer', 'Crimson king'), 1), (('Morus', 'Vitellina'), 1), (('Acer', 'Italica'), 1), (('Castanea', None), 1), (('Populus', 'Reine claude'), 1), (('Salix', 'Pendula'), 1), (('Acer', 'Flame'), 1), (('Eucalyptus', None), 1), (('Nerprun', None), 1), (('Malus', 'Charlottae'), 1), (('Sorbus', 'Autumnalis'), 1), (('Prunus', 'Doyenne du comice'), 1), (('Albizia', 'Ombrella'), 1), (('Juglans', 'Franquette'), 1), (('Pyrus', 'Marguerite Marillat'), 1), (('Sorbopyrus', None), 1), (('Malus', 'Gala'), 1), (('Malus', 'Franc roseau'), 1), (('Pyrus', 'Docteur Guyot'), 1), (('Acer', 'Annae'), 1), (('Ulmus', 'Atropurpurea'), 1), (('Prunus', 'Graeberiana'), 1), (('Diospyros', 'Hubert'), 1), (('Prunus', 'Lauranne'), 1), (('Nyssa', None), 1), (('Malus', 'Delicious'), 1), (('Celtis', 'Italica'), 1), (('Pyrus', 'Conférence'), 1), (('Tilia', 'Greenspire'), 1), (('Carpinus', 'Austriaca'), 1), (('Pyrus', 'Williams'), 1), (('Libocedrus', 'Aureo variegata'), 1), (('Prunus', 'Amsden'), 1), (('Prunus', 'Polonais'), 1), (('Pyrus', \"Louise Bonne d'Avranche\"), 1), (('Ficus', \"Goutte d'or\"), 1), (('Malus', 'Reinette Vignat'), 1), (('Corylus', 'Contorta'), 1), (('Alnus', 'Stricta'), 1), (('Quercus', 'Lucombeana'), 1), (('Syringa', 'Amurensis'), 1), (('Malus', 'Golden délicious'), 1), (('Malus', \"D'Eylau\"), 1), (('Malus', 'Belle de Boskoop'), 1), (('Pinus', 'Scop'), 1), (('Sciadopitys', None), 1), (('Prunus', 'Ardéchoise'), 1), (('Fraxinus', 'Mariesii'), 1), (('Fraxinus', 'Schwedleri nigra'), 1), (('Diospyros', 'Fuyu'), 1), (('Malus', 'Belle Fille de Salin'), 1), (('Tilia', 'Austriaca'), 1), (('Prunus', 'Myrobolan'), 1), (('Taxus', 'David'), 1), (('Alnus', 'Laciniata'), 1), (('Poncinos', None), 1), (('Acer', 'Brilliantissimum'), 1)]\n"
     ]
    }
   ],
   "source": [
    "key = 'GENRE_BOTA'\n",
    "key = 'VARIETE'\n",
    "\n",
    "\n",
    "dicocount = {}\n",
    "\n",
    "for arbre in data:    \n",
    "    key = (arbre['properties']['GENRE_BOTA'], arbre['properties']['VARIETE'])\n",
    "    count( dicocount, key )\n",
    "    \n",
    "print(len(dicocount))\n",
    "print( sorted( dicocount.items(), key=lambda x:x[1], reverse=True ) )"
   ]
  },
  {
   "cell_type": "code",
   "execution_count": 42,
   "metadata": {
    "collapsed": true
   },
   "outputs": [],
   "source": [
    "# select data"
   ]
  },
  {
   "cell_type": "code",
   "execution_count": 43,
   "metadata": {},
   "outputs": [
    {
     "name": "stdout",
     "output_type": "stream",
     "text": [
      "{'NOM': 'ESP12042', 'COLLECTIVITE': 'Ville de Grenoble', 'ADR_SECTEUR': '6', 'ELEM_POINT_ID': 6689, 'GENRE_BOTA': 'Alnus', 'SOUS_CATEGORIE_DESC': \"Arbre d'espaces ouverts\", 'ANNEEABATTAGE': None, 'ESPECE': None, 'RAISONDEPLANTATION': None, 'ANNEEDEPLANTATION': '1975', 'IDENTIFIANTPLU': None, 'CATEGORIE_DESC': 'Arbre', 'DIAMETREARBRE': None, 'INTITULEPROTECTIONPLU': None, 'REMARQUES': None, 'STADEDEDEVELOPPEMENT': 'Arbre adulte', 'CODE_PARENT': 'ESP1253', 'BIEN_REFERENCE': 'AR12042', 'SOUS_CATEGORIE': 'ESP174', 'GENRE_DESC': 'VEGETATION', 'CODE_PARENT_DESC': 'Grande pelouse bord h du parc', 'TRAITEMENTCHENILLES': None, 'GENRE': 'VEG', 'VARIETE': None, 'CAUSEABATTAGE': None, 'CATEGORIE': 'ESP01', 'COURRIER': None, 'CODE': 'ESP12042', 'TYPEIMPLANTATIONPLU': None, 'EQUIPE': None, 'ESSOUCHEMENT': None}\n"
     ]
    }
   ],
   "source": [
    "print( data[0]['properties'] )"
   ]
  },
  {
   "cell_type": "code",
   "execution_count": 44,
   "metadata": {
    "collapsed": true
   },
   "outputs": [],
   "source": [
    "keys_selected = ['GENRE_BOTA', 'ESPECE', 'ANNEEDEPLANTATION', 'STADEDEDEVELOPPEMENT', 'CODE_PARENT_DESC' ]"
   ]
  },
  {
   "cell_type": "code",
   "execution_count": 54,
   "metadata": {},
   "outputs": [
    {
     "name": "stdout",
     "output_type": "stream",
     "text": [
      "30130\n"
     ]
    }
   ],
   "source": [
    "data_selected = []\n",
    "for arbre in data:\n",
    "    \n",
    "    if not arbre['properties']['GENRE_BOTA'] and not arbre['properties']['ESPECE']:\n",
    "        continue\n",
    "    \n",
    "    newarbre = { k:arbre['properties'][k] for k in keys_selected }\n",
    "    newarbre['coords'] = arbre['geometry']['coordinates']\n",
    "    data_selected.append( newarbre )\n",
    "    \n",
    "print(len(data_selected))"
   ]
  },
  {
   "cell_type": "code",
   "execution_count": 55,
   "metadata": {
    "collapsed": true
   },
   "outputs": [],
   "source": [
    "json.dump( data_selected, open( 'arbres.json', 'w' ))\n"
   ]
  },
  {
   "cell_type": "code",
   "execution_count": 10,
   "metadata": {
    "collapsed": true
   },
   "outputs": [],
   "source": [
    "# GEOJson"
   ]
  },
  {
   "cell_type": "code",
   "execution_count": 14,
   "metadata": {
    "collapsed": true
   },
   "outputs": [],
   "source": [
    "geodata_lite = { \"type\": \"FeatureCollection\", \"features\": data[:500] }"
   ]
  },
  {
   "cell_type": "code",
   "execution_count": 15,
   "metadata": {
    "collapsed": true
   },
   "outputs": [],
   "source": [
    "json.dump( geodata_lite, open( 'data/data_lite.json', 'w' ))\n"
   ]
  },
  {
   "cell_type": "code",
   "execution_count": 9,
   "metadata": {},
   "outputs": [
    {
     "data": {
      "text/plain": [
       "{'geometry': {'coordinates': [5.73796476507239, 45.1651537744035],\n",
       "  'type': 'Point'},\n",
       " 'properties': {'ADR_SECTEUR': '6',\n",
       "  'ANNEEABATTAGE': None,\n",
       "  'ANNEEDEPLANTATION': '1975',\n",
       "  'BIEN_REFERENCE': 'AR12042',\n",
       "  'CATEGORIE': 'ESP01',\n",
       "  'CATEGORIE_DESC': 'Arbre',\n",
       "  'CAUSEABATTAGE': None,\n",
       "  'CODE': 'ESP12042',\n",
       "  'CODE_PARENT': 'ESP1253',\n",
       "  'CODE_PARENT_DESC': 'Grande pelouse bord h du parc',\n",
       "  'COLLECTIVITE': 'Ville de Grenoble',\n",
       "  'COURRIER': None,\n",
       "  'DIAMETREARBRE': None,\n",
       "  'ELEM_POINT_ID': 6689,\n",
       "  'EQUIPE': None,\n",
       "  'ESPECE': None,\n",
       "  'ESSOUCHEMENT': None,\n",
       "  'GENRE': 'VEG',\n",
       "  'GENRE_BOTA': 'Alnus',\n",
       "  'GENRE_DESC': 'VEGETATION',\n",
       "  'IDENTIFIANTPLU': None,\n",
       "  'INTITULEPROTECTIONPLU': None,\n",
       "  'NOM': 'ESP12042',\n",
       "  'RAISONDEPLANTATION': None,\n",
       "  'REMARQUES': None,\n",
       "  'SOUS_CATEGORIE': 'ESP174',\n",
       "  'SOUS_CATEGORIE_DESC': \"Arbre d'espaces ouverts\",\n",
       "  'STADEDEDEVELOPPEMENT': 'Arbre adulte',\n",
       "  'TRAITEMENTCHENILLES': None,\n",
       "  'TYPEIMPLANTATIONPLU': None,\n",
       "  'VARIETE': None},\n",
       " 'type': 'Feature'}"
      ]
     },
     "execution_count": 9,
     "metadata": {},
     "output_type": "execute_result"
    }
   ],
   "source": [
    "data[0]"
   ]
  },
  {
   "cell_type": "code",
   "execution_count": null,
   "metadata": {
    "collapsed": true
   },
   "outputs": [],
   "source": []
  }
 ],
 "metadata": {
  "kernelspec": {
   "display_name": "Python 3",
   "language": "python",
   "name": "python3"
  },
  "language_info": {
   "codemirror_mode": {
    "name": "ipython",
    "version": 3
   },
   "file_extension": ".py",
   "mimetype": "text/x-python",
   "name": "python",
   "nbconvert_exporter": "python",
   "pygments_lexer": "ipython3",
   "version": "3.5.2"
  }
 },
 "nbformat": 4,
 "nbformat_minor": 2
}
