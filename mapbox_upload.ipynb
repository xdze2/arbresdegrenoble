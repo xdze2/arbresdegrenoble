{
 "cells": [
  {
   "cell_type": "markdown",
   "metadata": {},
   "source": [
    "# Mapxox API\n",
    "## Uploads the data\n",
    "\n",
    "doc. : [python mapbox sdk](https://github.com/mapbox/mapbox-sdk-py)\n",
    "\n",
    "[upload example](https://github.com/mapbox/mapbox-sdk-py/blob/master/docs/uploads.md#uploads)"
   ]
  },
  {
   "cell_type": "code",
   "execution_count": 52,
   "metadata": {},
   "outputs": [],
   "source": [
    "from mapbox import Uploader"
   ]
  },
  {
   "cell_type": "code",
   "execution_count": 53,
   "metadata": {},
   "outputs": [],
   "source": [
    "with open('mapbox_token.txt') as f:\n",
    "    token = f.read()\n",
    "\n",
    "token = token.strip('\\n')"
   ]
  },
  {
   "cell_type": "code",
   "execution_count": 38,
   "metadata": {
    "collapsed": true
   },
   "outputs": [],
   "source": [
    "service = Uploader(access_token=token)"
   ]
  },
  {
   "cell_type": "code",
   "execution_count": 57,
   "metadata": {
    "collapsed": true
   },
   "outputs": [],
   "source": [
    "# File to upload\n",
    "#filetoupload = 'data/ARBRES_TERRITOIRE_VDG_EPSG4326.json'\n",
    "filetoupload = 'data/data_lite.json'\n",
    "\n",
    "# account_name.dataset_name :\n",
    "mapid = 'xdze2.data_test'"
   ]
  },
  {
   "cell_type": "code",
   "execution_count": 58,
   "metadata": {},
   "outputs": [],
   "source": [
    "# Upload :\n",
    "with open( filetoupload , 'rb') as src:\n",
    "    upload_response = service.upload(src, mapid)\n",
    "    \n",
    "upload_id = upload_response.json()['id']"
   ]
  },
  {
   "cell_type": "code",
   "execution_count": 59,
   "metadata": {},
   "outputs": [
    {
     "data": {
      "text/plain": [
       "{'complete': True,\n",
       " 'created': '2017-12-05T18:39:22.666Z',\n",
       " 'error': None,\n",
       " 'id': 'cjatyy71f5lkz32lo6nqzhsxt',\n",
       " 'modified': '2017-12-05T18:39:22.666Z',\n",
       " 'name': 'data_test',\n",
       " 'owner': 'xdze2',\n",
       " 'progress': 1,\n",
       " 'tileset': 'xdze2.data_test'}"
      ]
     },
     "execution_count": 59,
     "metadata": {},
     "output_type": "execute_result"
    }
   ],
   "source": [
    "status_resp = service.status(upload_id).json()\n",
    "status_resp"
   ]
  },
  {
   "cell_type": "code",
   "execution_count": 60,
   "metadata": {},
   "outputs": [
    {
     "data": {
      "text/plain": [
       "[{'complete': True,\n",
       "  'created': '2017-12-05T18:39:22.666Z',\n",
       "  'error': None,\n",
       "  'id': 'cjatyy71f5lkz32lo6nqzhsxt',\n",
       "  'modified': '2017-12-05T18:39:22.666Z',\n",
       "  'name': 'data_test',\n",
       "  'owner': 'xdze2',\n",
       "  'progress': 1,\n",
       "  'tileset': 'xdze2.data_test'},\n",
       " {'complete': True,\n",
       "  'created': '2017-12-05T17:41:14.200Z',\n",
       "  'error': None,\n",
       "  'id': 'cjatwvfbn0hxw33n03r5dea1e',\n",
       "  'modified': '2017-12-05T17:41:14.200Z',\n",
       "  'name': 'arbrestot',\n",
       "  'owner': 'xdze2',\n",
       "  'progress': 1,\n",
       "  'tileset': 'xdze2.arbrestot'},\n",
       " {'complete': True,\n",
       "  'created': '2017-12-05T17:36:09.838Z',\n",
       "  'error': None,\n",
       "  'id': 'cjatwowh4650e2wniyrjia5dz',\n",
       "  'modified': '2017-12-05T17:36:09.838Z',\n",
       "  'name': 'data_test',\n",
       "  'owner': 'xdze2',\n",
       "  'progress': 1,\n",
       "  'tileset': 'xdze2.data_test'},\n",
       " {'complete': True,\n",
       "  'created': '2017-12-05T17:34:45.388Z',\n",
       "  'error': None,\n",
       "  'id': 'cjatwn3bb6ktc33logfetnv9y',\n",
       "  'modified': '2017-12-05T17:34:45.388Z',\n",
       "  'name': 'data_test',\n",
       "  'owner': 'xdze2',\n",
       "  'progress': 1,\n",
       "  'tileset': 'xdze2.data_test'},\n",
       " {'complete': True,\n",
       "  'created': '2017-12-05T17:26:11.825Z',\n",
       "  'error': None,\n",
       "  'id': 'cjatwc31j6l6q2wl981n0ma3x',\n",
       "  'modified': '2017-12-05T17:26:11.825Z',\n",
       "  'name': 'data',\n",
       "  'owner': 'xdze2',\n",
       "  'progress': 1,\n",
       "  'tileset': 'xdze2.data'},\n",
       " {'complete': True,\n",
       "  'created': '2017-12-04T23:57:27.907Z',\n",
       "  'error': None,\n",
       "  'id': 'cjasuven25wp22yp83ctdwb3g',\n",
       "  'modified': '2017-12-04T23:57:27.907Z',\n",
       "  'name': 'data_lite',\n",
       "  'owner': 'xdze2',\n",
       "  'progress': 1,\n",
       "  'tileset': 'xdze2.cjasus0y15zm52qloz5opeqnv-70vsf'}]"
      ]
     },
     "execution_count": 60,
     "metadata": {},
     "output_type": "execute_result"
    }
   ],
   "source": [
    "# List recent uploads\n",
    "service.list().json()"
   ]
  },
  {
   "cell_type": "code",
   "execution_count": null,
   "metadata": {
    "collapsed": true
   },
   "outputs": [],
   "source": []
  }
 ],
 "metadata": {
  "kernelspec": {
   "display_name": "Python Virtual Env.",
   "language": "python",
   "name": "py3"
  },
  "language_info": {
   "codemirror_mode": {
    "name": "ipython",
    "version": 3
   },
   "file_extension": ".py",
   "mimetype": "text/x-python",
   "name": "python",
   "nbconvert_exporter": "python",
   "pygments_lexer": "ipython3",
   "version": "3.5.2"
  }
 },
 "nbformat": 4,
 "nbformat_minor": 2
}
