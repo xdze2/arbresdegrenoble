{
 "cells": [
  {
   "cell_type": "code",
   "execution_count": 8,
   "metadata": {
    "collapsed": true
   },
   "outputs": [],
   "source": [
    "import sqlite3\n",
    "import geojson as gj\n"
   ]
  },
  {
   "cell_type": "code",
   "execution_count": 66,
   "metadata": {},
   "outputs": [],
   "source": [
    "db_filename = 'data/arbres.db'\n",
    "\n",
    "db = sqlite3.connect(db_filename)\n",
    "\n",
    "# -- create the table --\n",
    "cursor = db.cursor()"
   ]
  },
  {
   "cell_type": "code",
   "execution_count": 73,
   "metadata": {},
   "outputs": [
    {
     "name": "stdout",
     "output_type": "stream",
     "text": [
      "['GENRE_BOTA', 'ESPECE', 'VARIETE', 'NOMFR', 'ANNEEDEPLANTATION', 'STADEDEDEVELOPPEMENT', 'SOUS_CATEGORIE', 'SOUS_CATEGORIE_DESC', 'LATITUDE', 'LONGITUDE', 'CODE_PARENT_DESC', 'CODE_PARENT']\n"
     ]
    }
   ],
   "source": [
    "cursor.execute(\"\"\"\n",
    "    SELECT arbres.genre_bota, arbres.espece, arbres.variete, nomsfr.nomfr,\n",
    "                arbres.anneedeplantation, arbres.stadededeveloppement,\n",
    "                arbres.sous_categorie, arbres.sous_categorie_desc,\n",
    "                arbres.latitude, arbres.longitude,\n",
    "                arbres.code_parent_desc, arbres.code_parent\n",
    "    FROM arbres\n",
    "    INNER JOIN nomsfr ON arbres.genre_bota IS nomsfr.genre_bota\n",
    "                                    AND  arbres.espece IS nomsfr.espece\n",
    "                                    AND  arbres.variete IS nomsfr.variete\n",
    "             \"\"\")\n",
    "\n",
    "field_name = [ desc[0].upper() for desc in cursor.description ]\n",
    "print( field_name )"
   ]
  },
  {
   "cell_type": "code",
   "execution_count": 74,
   "metadata": {
    "collapsed": true
   },
   "outputs": [],
   "source": [
    "# remplace None by an empty string :\n",
    "emptystr = lambda x: x if x else ''"
   ]
  },
  {
   "cell_type": "code",
   "execution_count": 75,
   "metadata": {},
   "outputs": [
    {
     "name": "stdout",
     "output_type": "stream",
     "text": [
      "30913\n",
      "15171773\n"
     ]
    }
   ],
   "source": [
    "N_iter_max = 50000\n",
    "\n",
    "collection_list = []\n",
    "for index in range(N_iter_max):\n",
    "    row = cursor.fetchone()\n",
    "    if not row:\n",
    "        break\n",
    "    \n",
    "    props = { k:emptystr(v) for k, v in zip( field_name, row ) }\n",
    "    coords = [ props[k] for k in ['LONGITUDE', 'LATITUDE'] ]\n",
    "    \n",
    "    point = gj.Point( coords )\n",
    "    feature = gj.Feature( geometry=point, properties=props )\n",
    "    \n",
    "    collection_list.append( feature )\n",
    "\n",
    "    \n",
    "feat_collection = gj.FeatureCollection( collection_list )\n",
    "print( len(collection_list) )\n",
    "\n",
    "# - save -\n",
    "geonjson_text = gj.dumps( feat_collection )\n",
    "print(len(geonjson_text))\n",
    "\n",
    "filename = 'data/arbres_transformed.geojson'\n",
    "with open(filename, '+w') as file:\n",
    "    file.write( geonjson_text )"
   ]
  },
  {
   "cell_type": "code",
   "execution_count": null,
   "metadata": {
    "collapsed": true
   },
   "outputs": [],
   "source": []
  }
 ],
 "metadata": {
  "kernelspec": {
   "display_name": "Python Virtual Env.",
   "language": "python",
   "name": "py3"
  },
  "language_info": {
   "codemirror_mode": {
    "name": "ipython",
    "version": 3
   },
   "file_extension": ".py",
   "mimetype": "text/x-python",
   "name": "python",
   "nbconvert_exporter": "python",
   "pygments_lexer": "ipython3",
   "version": "3.5.2"
  }
 },
 "nbformat": 4,
 "nbformat_minor": 2
}
